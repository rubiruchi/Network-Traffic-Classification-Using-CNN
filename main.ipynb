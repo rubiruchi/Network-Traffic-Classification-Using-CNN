{
 "cells": [
  {
   "cell_type": "code",
   "execution_count": 1,
   "metadata": {},
   "outputs": [],
   "source": [
    "import numpy as np\n",
    "import pandas as pd\n",
    "from sklearn.decomposition import PCA"
   ]
  },
  {
   "cell_type": "code",
   "execution_count": 2,
   "metadata": {},
   "outputs": [
    {
     "name": "stdout",
     "output_type": "stream",
     "text": [
      "(377526, 237) (377526,)\n"
     ]
    }
   ],
   "source": [
    "data=pd.read_csv('data_cleaned.csv')\n",
    "X=data.drop('266',axis=1)\n",
    "Y=data['266']\n",
    "\n",
    "print(X.shape, Y.shape)"
   ]
  },
  {
   "cell_type": "code",
   "execution_count": 3,
   "metadata": {},
   "outputs": [
    {
     "data": {
      "text/html": [
       "<div>\n",
       "<style scoped>\n",
       "    .dataframe tbody tr th:only-of-type {\n",
       "        vertical-align: middle;\n",
       "    }\n",
       "\n",
       "    .dataframe tbody tr th {\n",
       "        vertical-align: top;\n",
       "    }\n",
       "\n",
       "    .dataframe thead th {\n",
       "        text-align: right;\n",
       "    }\n",
       "</style>\n",
       "<table border=\"1\" class=\"dataframe\">\n",
       "  <thead>\n",
       "    <tr style=\"text-align: right;\">\n",
       "      <th></th>\n",
       "      <th>4</th>\n",
       "      <th>8</th>\n",
       "      <th>13</th>\n",
       "      <th>14</th>\n",
       "      <th>15</th>\n",
       "      <th>16</th>\n",
       "      <th>17</th>\n",
       "      <th>18</th>\n",
       "      <th>19</th>\n",
       "      <th>21</th>\n",
       "      <th>...</th>\n",
       "      <th>256</th>\n",
       "      <th>257</th>\n",
       "      <th>258</th>\n",
       "      <th>259</th>\n",
       "      <th>260</th>\n",
       "      <th>261</th>\n",
       "      <th>262</th>\n",
       "      <th>263</th>\n",
       "      <th>264</th>\n",
       "      <th>265</th>\n",
       "    </tr>\n",
       "  </thead>\n",
       "  <tbody>\n",
       "    <tr>\n",
       "      <th>0</th>\n",
       "      <td>80.0</td>\n",
       "      <td>51063.0</td>\n",
       "      <td>0.000134</td>\n",
       "      <td>0.000262</td>\n",
       "      <td>0.000439</td>\n",
       "      <td>0.046510</td>\n",
       "      <td>0.114171</td>\n",
       "      <td>0.153290</td>\n",
       "      <td>0.005142</td>\n",
       "      <td>66.0</td>\n",
       "      <td>...</td>\n",
       "      <td>0.0</td>\n",
       "      <td>0.005</td>\n",
       "      <td>1.487655</td>\n",
       "      <td>1.570576</td>\n",
       "      <td>0.773541</td>\n",
       "      <td>0.004160</td>\n",
       "      <td>0.971797</td>\n",
       "      <td>0.003283</td>\n",
       "      <td>1.097594</td>\n",
       "      <td>0.002344</td>\n",
       "    </tr>\n",
       "    <tr>\n",
       "      <th>1</th>\n",
       "      <td>80.0</td>\n",
       "      <td>51094.0</td>\n",
       "      <td>0.000001</td>\n",
       "      <td>0.000173</td>\n",
       "      <td>0.000259</td>\n",
       "      <td>0.042580</td>\n",
       "      <td>0.082782</td>\n",
       "      <td>0.151153</td>\n",
       "      <td>0.004833</td>\n",
       "      <td>66.0</td>\n",
       "      <td>...</td>\n",
       "      <td>0.0</td>\n",
       "      <td>0.006</td>\n",
       "      <td>1.487655</td>\n",
       "      <td>1.570649</td>\n",
       "      <td>0.773541</td>\n",
       "      <td>0.005127</td>\n",
       "      <td>0.971797</td>\n",
       "      <td>0.004223</td>\n",
       "      <td>1.097594</td>\n",
       "      <td>0.003263</td>\n",
       "    </tr>\n",
       "    <tr>\n",
       "      <th>2</th>\n",
       "      <td>80.0</td>\n",
       "      <td>51062.0</td>\n",
       "      <td>0.000001</td>\n",
       "      <td>0.000293</td>\n",
       "      <td>0.000517</td>\n",
       "      <td>0.046451</td>\n",
       "      <td>0.114882</td>\n",
       "      <td>0.149624</td>\n",
       "      <td>0.005026</td>\n",
       "      <td>66.0</td>\n",
       "      <td>...</td>\n",
       "      <td>0.0</td>\n",
       "      <td>0.005</td>\n",
       "      <td>1.487655</td>\n",
       "      <td>1.570568</td>\n",
       "      <td>0.773541</td>\n",
       "      <td>0.004144</td>\n",
       "      <td>0.971797</td>\n",
       "      <td>0.003254</td>\n",
       "      <td>1.097594</td>\n",
       "      <td>0.002305</td>\n",
       "    </tr>\n",
       "    <tr>\n",
       "      <th>3</th>\n",
       "      <td>80.0</td>\n",
       "      <td>51089.0</td>\n",
       "      <td>0.000015</td>\n",
       "      <td>0.000326</td>\n",
       "      <td>0.000524</td>\n",
       "      <td>0.046915</td>\n",
       "      <td>0.116692</td>\n",
       "      <td>0.148243</td>\n",
       "      <td>0.004917</td>\n",
       "      <td>66.0</td>\n",
       "      <td>...</td>\n",
       "      <td>0.0</td>\n",
       "      <td>0.005</td>\n",
       "      <td>1.487655</td>\n",
       "      <td>1.570552</td>\n",
       "      <td>0.773541</td>\n",
       "      <td>0.004109</td>\n",
       "      <td>0.971797</td>\n",
       "      <td>0.003189</td>\n",
       "      <td>1.097594</td>\n",
       "      <td>0.002220</td>\n",
       "    </tr>\n",
       "    <tr>\n",
       "      <th>4</th>\n",
       "      <td>80.0</td>\n",
       "      <td>51057.0</td>\n",
       "      <td>0.000077</td>\n",
       "      <td>0.000175</td>\n",
       "      <td>0.000349</td>\n",
       "      <td>0.042728</td>\n",
       "      <td>0.085012</td>\n",
       "      <td>0.149947</td>\n",
       "      <td>0.004664</td>\n",
       "      <td>66.0</td>\n",
       "      <td>...</td>\n",
       "      <td>0.0</td>\n",
       "      <td>0.005</td>\n",
       "      <td>1.487655</td>\n",
       "      <td>1.570552</td>\n",
       "      <td>0.773541</td>\n",
       "      <td>0.004110</td>\n",
       "      <td>0.971797</td>\n",
       "      <td>0.003191</td>\n",
       "      <td>1.097594</td>\n",
       "      <td>0.002222</td>\n",
       "    </tr>\n",
       "  </tbody>\n",
       "</table>\n",
       "<p>5 rows × 237 columns</p>\n",
       "</div>"
      ],
      "text/plain": [
       "      4        8        13        14        15        16        17        18  \\\n",
       "0  80.0  51063.0  0.000134  0.000262  0.000439  0.046510  0.114171  0.153290   \n",
       "1  80.0  51094.0  0.000001  0.000173  0.000259  0.042580  0.082782  0.151153   \n",
       "2  80.0  51062.0  0.000001  0.000293  0.000517  0.046451  0.114882  0.149624   \n",
       "3  80.0  51089.0  0.000015  0.000326  0.000524  0.046915  0.116692  0.148243   \n",
       "4  80.0  51057.0  0.000077  0.000175  0.000349  0.042728  0.085012  0.149947   \n",
       "\n",
       "         19    21    ...     256    257       258       259       260  \\\n",
       "0  0.005142  66.0    ...     0.0  0.005  1.487655  1.570576  0.773541   \n",
       "1  0.004833  66.0    ...     0.0  0.006  1.487655  1.570649  0.773541   \n",
       "2  0.005026  66.0    ...     0.0  0.005  1.487655  1.570568  0.773541   \n",
       "3  0.004917  66.0    ...     0.0  0.005  1.487655  1.570552  0.773541   \n",
       "4  0.004664  66.0    ...     0.0  0.005  1.487655  1.570552  0.773541   \n",
       "\n",
       "        261       262       263       264       265  \n",
       "0  0.004160  0.971797  0.003283  1.097594  0.002344  \n",
       "1  0.005127  0.971797  0.004223  1.097594  0.003263  \n",
       "2  0.004144  0.971797  0.003254  1.097594  0.002305  \n",
       "3  0.004109  0.971797  0.003189  1.097594  0.002220  \n",
       "4  0.004110  0.971797  0.003191  1.097594  0.002222  \n",
       "\n",
       "[5 rows x 237 columns]"
      ]
     },
     "execution_count": 3,
     "metadata": {},
     "output_type": "execute_result"
    }
   ],
   "source": [
    "X.head()"
   ]
  },
  {
   "cell_type": "code",
   "execution_count": 4,
   "metadata": {},
   "outputs": [],
   "source": [
    "ndim =20"
   ]
  },
  {
   "cell_type": "code",
   "execution_count": 5,
   "metadata": {
    "scrolled": true
   },
   "outputs": [
    {
     "data": {
      "text/plain": [
       "0    b'WWW'\n",
       "1    b'WWW'\n",
       "2    b'WWW'\n",
       "3    b'WWW'\n",
       "4    b'WWW'\n",
       "Name: 266, dtype: object"
      ]
     },
     "execution_count": 5,
     "metadata": {},
     "output_type": "execute_result"
    }
   ],
   "source": [
    "Y.head()"
   ]
  },
  {
   "cell_type": "code",
   "execution_count": 6,
   "metadata": {},
   "outputs": [
    {
     "data": {
      "text/html": [
       "<div>\n",
       "<style scoped>\n",
       "    .dataframe tbody tr th:only-of-type {\n",
       "        vertical-align: middle;\n",
       "    }\n",
       "\n",
       "    .dataframe tbody tr th {\n",
       "        vertical-align: top;\n",
       "    }\n",
       "\n",
       "    .dataframe thead th {\n",
       "        text-align: right;\n",
       "    }\n",
       "</style>\n",
       "<table border=\"1\" class=\"dataframe\">\n",
       "  <thead>\n",
       "    <tr style=\"text-align: right;\">\n",
       "      <th></th>\n",
       "      <th>266</th>\n",
       "    </tr>\n",
       "  </thead>\n",
       "  <tbody>\n",
       "    <tr>\n",
       "      <th>0</th>\n",
       "      <td>b'WWW'</td>\n",
       "    </tr>\n",
       "    <tr>\n",
       "      <th>1</th>\n",
       "      <td>b'WWW'</td>\n",
       "    </tr>\n",
       "    <tr>\n",
       "      <th>2</th>\n",
       "      <td>b'WWW'</td>\n",
       "    </tr>\n",
       "    <tr>\n",
       "      <th>3</th>\n",
       "      <td>b'WWW'</td>\n",
       "    </tr>\n",
       "    <tr>\n",
       "      <th>4</th>\n",
       "      <td>b'WWW'</td>\n",
       "    </tr>\n",
       "  </tbody>\n",
       "</table>\n",
       "</div>"
      ],
      "text/plain": [
       "      266\n",
       "0  b'WWW'\n",
       "1  b'WWW'\n",
       "2  b'WWW'\n",
       "3  b'WWW'\n",
       "4  b'WWW'"
      ]
     },
     "execution_count": 6,
     "metadata": {},
     "output_type": "execute_result"
    }
   ],
   "source": [
    "Y=pd.DataFrame(Y, columns=['266'])\n",
    "Y.head()"
   ]
  },
  {
   "cell_type": "code",
   "execution_count": 7,
   "metadata": {},
   "outputs": [
    {
     "name": "stdout",
     "output_type": "stream",
     "text": [
      "266\n",
      "b'ATTACK'           1793\n",
      "b'DATABASE'         2648\n",
      "b'FTP-CONTROL'      3054\n",
      "b'FTP-DATA'         5797\n",
      "b'FTP-PASV'         2688\n",
      "b'GAMES'               8\n",
      "b'INTERACTIVE'       110\n",
      "b'MAIL'            28567\n",
      "b'MULTIMEDIA'        576\n",
      "b'P2P'              2094\n",
      "b'SERVICES'         2099\n",
      "b'WWW'            328092\n",
      "dtype: int64\n"
     ]
    }
   ],
   "source": [
    "print(Y.groupby('266').size())"
   ]
  },
  {
   "cell_type": "code",
   "execution_count": 8,
   "metadata": {},
   "outputs": [],
   "source": [
    "from sklearn.preprocessing import LabelEncoder"
   ]
  },
  {
   "cell_type": "code",
   "execution_count": 9,
   "metadata": {},
   "outputs": [
    {
     "name": "stderr",
     "output_type": "stream",
     "text": [
      "/home/user/anaconda3/lib/python3.6/site-packages/sklearn/preprocessing/label.py:111: DataConversionWarning: A column-vector y was passed when a 1d array was expected. Please change the shape of y to (n_samples, ), for example using ravel().\n",
      "  y = column_or_1d(y, warn=True)\n"
     ]
    },
    {
     "name": "stdout",
     "output_type": "stream",
     "text": [
      "<class 'numpy.ndarray'>\n"
     ]
    }
   ],
   "source": [
    "LE=LabelEncoder()\n",
    "Y_Labeled=LE.fit_transform(Y)\n",
    "\n",
    "print(type(Y_Labeled))"
   ]
  },
  {
   "cell_type": "code",
   "execution_count": 10,
   "metadata": {},
   "outputs": [],
   "source": [
    "Y_Labeleds = pd.DataFrame(Y_Labeled, columns=['266'])"
   ]
  },
  {
   "cell_type": "code",
   "execution_count": 11,
   "metadata": {
    "scrolled": true
   },
   "outputs": [
    {
     "name": "stdout",
     "output_type": "stream",
     "text": [
      "266\n",
      "0       1793\n",
      "1       2648\n",
      "2       3054\n",
      "3       5797\n",
      "4       2688\n",
      "5          8\n",
      "6        110\n",
      "7      28567\n",
      "8        576\n",
      "9       2094\n",
      "10      2099\n",
      "11    328092\n",
      "dtype: int64\n"
     ]
    }
   ],
   "source": [
    "print(Y_Labeleds.groupby('266').size())"
   ]
  },
  {
   "cell_type": "code",
   "execution_count": 12,
   "metadata": {},
   "outputs": [],
   "source": [
    "from sklearn.preprocessing import StandardScaler"
   ]
  },
  {
   "cell_type": "code",
   "execution_count": 13,
   "metadata": {},
   "outputs": [],
   "source": [
    "SC=StandardScaler()\n",
    "X_train=SC.fit_transform(X)"
   ]
  },
  {
   "cell_type": "code",
   "execution_count": 14,
   "metadata": {
    "scrolled": false
   },
   "outputs": [
    {
     "name": "stdout",
     "output_type": "stream",
     "text": [
      "(377526, 20)\n"
     ]
    }
   ],
   "source": [
    "pca=PCA(n_components=ndim)\n",
    "X_train=pca.fit_transform(X_train)\n",
    "\n",
    "print(X_train.shape)"
   ]
  },
  {
   "cell_type": "code",
   "execution_count": null,
   "metadata": {},
   "outputs": [],
   "source": []
  },
  {
   "cell_type": "code",
   "execution_count": null,
   "metadata": {},
   "outputs": [],
   "source": []
  },
  {
   "cell_type": "code",
   "execution_count": 15,
   "metadata": {
    "scrolled": true
   },
   "outputs": [
    {
     "name": "stdout",
     "output_type": "stream",
     "text": [
      "[[-4.35591765  4.09792475 -1.80026667 ...  0.2311453  -0.01612081\n",
      "   0.05316844]\n",
      " [-4.3871175   4.00134951 -1.59391572 ...  0.19581019 -0.13186598\n",
      "  -0.2217719 ]\n",
      " [-4.39701296  3.79191259 -1.77913445 ...  0.24830316 -0.11011255\n",
      "  -0.05083698]\n",
      " ...\n",
      " [-2.6240649  -4.77218397  2.18186724 ... -0.83338161 -1.69134443\n",
      "  -1.7671121 ]\n",
      " [-2.67507489 -4.73383288  2.11565548 ... -0.83741521 -1.54201179\n",
      "  -1.50185597]\n",
      " [-2.64108468 -4.77978892  2.2025851  ... -0.83242638 -1.69469426\n",
      "  -1.76737235]]\n"
     ]
    }
   ],
   "source": [
    "print(X_train)"
   ]
  },
  {
   "cell_type": "code",
   "execution_count": 16,
   "metadata": {},
   "outputs": [],
   "source": [
    "Y = Y_Labeleds.copy()"
   ]
  },
  {
   "cell_type": "code",
   "execution_count": 17,
   "metadata": {},
   "outputs": [],
   "source": [
    "X = X_train.copy()"
   ]
  },
  {
   "cell_type": "code",
   "execution_count": 18,
   "metadata": {},
   "outputs": [
    {
     "data": {
      "text/plain": [
       "(377526, 20)"
      ]
     },
     "execution_count": 18,
     "metadata": {},
     "output_type": "execute_result"
    }
   ],
   "source": [
    "X.shape"
   ]
  },
  {
   "cell_type": "code",
   "execution_count": 19,
   "metadata": {},
   "outputs": [
    {
     "data": {
      "text/plain": [
       "(377526, 1)"
      ]
     },
     "execution_count": 19,
     "metadata": {},
     "output_type": "execute_result"
    }
   ],
   "source": [
    "Y.shape"
   ]
  },
  {
   "cell_type": "code",
   "execution_count": 20,
   "metadata": {},
   "outputs": [
    {
     "name": "stderr",
     "output_type": "stream",
     "text": [
      "Using TensorFlow backend.\n"
     ]
    }
   ],
   "source": [
    "import tensorflow as tf\n",
    "import glob\n",
    "from functools import partial\n",
    "from keras.models import Sequential\n",
    "from keras.layers import Flatten, Conv1D, MaxPooling1D, Dropout, Dense\n",
    "from keras.utils import to_categorical\n",
    "from keras.wrappers.scikit_learn import KerasClassifier\n",
    "from sklearn.model_selection import train_test_split, GridSearchCV"
   ]
  },
  {
   "cell_type": "code",
   "execution_count": 21,
   "metadata": {},
   "outputs": [],
   "source": [
    "import keras\n",
    "config = tf.ConfigProto( device_count = {'GPU': 2 , 'CPU': 56} ) \n",
    "sess = tf.Session(config=config) \n",
    "keras.backend.set_session(sess)"
   ]
  },
  {
   "cell_type": "code",
   "execution_count": 22,
   "metadata": {},
   "outputs": [
    {
     "data": {
      "text/plain": [
       "['/job:localhost/replica:0/task:0/device:GPU:0',\n",
       " '/job:localhost/replica:0/task:0/device:GPU:1']"
      ]
     },
     "execution_count": 22,
     "metadata": {},
     "output_type": "execute_result"
    }
   ],
   "source": [
    "from keras import backend as K\n",
    "K.tensorflow_backend._get_available_gpus()"
   ]
  },
  {
   "cell_type": "code",
   "execution_count": 23,
   "metadata": {},
   "outputs": [],
   "source": [
    "LABELS = ['ATTACK','DATABASE','FTP-CONTROL','FTP-DATA','FTP-PASV',\n",
    "          'GAMES','INTERACTIVE','MAIL','MULTIMEDIA','P2P','SERVICES',\n",
    "          'WWW']\n",
    "counter = iter(range(20))"
   ]
  },
  {
   "cell_type": "code",
   "execution_count": null,
   "metadata": {},
   "outputs": [],
   "source": []
  },
  {
   "cell_type": "code",
   "execution_count": null,
   "metadata": {},
   "outputs": [],
   "source": []
  },
  {
   "cell_type": "code",
   "execution_count": null,
   "metadata": {},
   "outputs": [],
   "source": []
  },
  {
   "cell_type": "code",
   "execution_count": 24,
   "metadata": {},
   "outputs": [
    {
     "name": "stdout",
     "output_type": "stream",
     "text": [
      "(264268, 20) (113258, 20) (264268, 12) (113258, 12) (264268, 20, 1) (113258, 20, 1)\n",
      "CPU times: user 1.44 s, sys: 128 ms, total: 1.57 s\n",
      "Wall time: 1.57 s\n"
     ]
    }
   ],
   "source": [
    "%%time\n",
    "activation = 'relu'\n",
    "\n",
    "\n",
    "num_classes = 12; #len(LABELS)\n",
    "\n",
    "X_train,X_test,Y_train,Y_test = train_test_split(X,Y, test_size = 0.3, stratify = Y_Labeleds,random_state=10)\n",
    "# X_test,_,Y_test,_ = train_test_split(X_test,Y_test_Labeled, test_size = 0, random_state=0)\n",
    "\n",
    "X_train_ann = X_train.copy()\n",
    "X_test_ann = X_test.copy()\n",
    "\n",
    "X_train_cnn = X_train.reshape(X_train.shape[0], X_train.shape[1], 1)\n",
    "X_test_cnn = X_test.reshape(X_test.shape[0], X_test.shape[1], 1)\n",
    "\n",
    "Y_train_ann_cnn = to_categorical(Y_train, num_classes)\n",
    "Y_test_ann_cnn = to_categorical(Y_test, num_classes)\n",
    "\n",
    "print(X_train_ann.shape,X_test_ann.shape,Y_train_ann_cnn.shape,Y_test_ann_cnn.shape,X_train_cnn.shape,X_test_cnn.shape)"
   ]
  },
  {
   "cell_type": "markdown",
   "metadata": {},
   "source": [
    "# ANN"
   ]
  },
  {
   "cell_type": "code",
   "execution_count": 25,
   "metadata": {
    "scrolled": true
   },
   "outputs": [
    {
     "name": "stdout",
     "output_type": "stream",
     "text": [
      "_________________________________________________________________\n",
      "Layer (type)                 Output Shape              Param #   \n",
      "=================================================================\n",
      "dense_1 (Dense)              (None, 21)                441       \n",
      "_________________________________________________________________\n",
      "dropout_1 (Dropout)          (None, 21)                0         \n",
      "_________________________________________________________________\n",
      "dense_2 (Dense)              (None, 512)               11264     \n",
      "_________________________________________________________________\n",
      "dropout_2 (Dropout)          (None, 512)               0         \n",
      "_________________________________________________________________\n",
      "dense_3 (Dense)              (None, 1024)              525312    \n",
      "_________________________________________________________________\n",
      "dropout_3 (Dropout)          (None, 1024)              0         \n",
      "_________________________________________________________________\n",
      "dense_4 (Dense)              (None, 1024)              1049600   \n",
      "_________________________________________________________________\n",
      "dropout_4 (Dropout)          (None, 1024)              0         \n",
      "_________________________________________________________________\n",
      "dense_5 (Dense)              (None, 1024)              1049600   \n",
      "_________________________________________________________________\n",
      "dropout_5 (Dropout)          (None, 1024)              0         \n",
      "_________________________________________________________________\n",
      "dense_6 (Dense)              (None, 756)               774900    \n",
      "_________________________________________________________________\n",
      "dropout_6 (Dropout)          (None, 756)               0         \n",
      "_________________________________________________________________\n",
      "dense_7 (Dense)              (None, 756)               572292    \n",
      "_________________________________________________________________\n",
      "dropout_7 (Dropout)          (None, 756)               0         \n",
      "_________________________________________________________________\n",
      "dense_8 (Dense)              (None, 12)                9084      \n",
      "=================================================================\n",
      "Total params: 3,992,493\n",
      "Trainable params: 3,992,493\n",
      "Non-trainable params: 0\n",
      "_________________________________________________________________\n",
      "None\n",
      "Train on 264268 samples, validate on 113258 samples\n",
      "Epoch 1/50\n",
      "264268/264268 [==============================] - 3s 10us/step - loss: 0.8265 - acc: 0.8483 - val_loss: 0.5803 - val_acc: 0.9127\n",
      "Epoch 2/50\n",
      "264268/264268 [==============================] - 2s 7us/step - loss: 0.4444 - acc: 0.9014 - val_loss: 0.2979 - val_acc: 0.9221\n",
      "Epoch 3/50\n",
      "264268/264268 [==============================] - 2s 7us/step - loss: 0.3731 - acc: 0.9099 - val_loss: 0.2424 - val_acc: 0.9312\n",
      "Epoch 4/50\n",
      "264268/264268 [==============================] - 2s 7us/step - loss: 0.3251 - acc: 0.9161 - val_loss: 0.2245 - val_acc: 0.9386\n",
      "Epoch 5/50\n",
      "264268/264268 [==============================] - 2s 7us/step - loss: 0.2890 - acc: 0.9224 - val_loss: 0.1939 - val_acc: 0.9451\n",
      "Epoch 6/50\n",
      "264268/264268 [==============================] - 2s 7us/step - loss: 0.2721 - acc: 0.9266 - val_loss: 0.1849 - val_acc: 0.9494\n",
      "Epoch 7/50\n",
      "264268/264268 [==============================] - 2s 7us/step - loss: 0.2523 - acc: 0.9311 - val_loss: 0.1688 - val_acc: 0.9547\n",
      "Epoch 8/50\n",
      "264268/264268 [==============================] - 2s 7us/step - loss: 0.2416 - acc: 0.9342 - val_loss: 0.1775 - val_acc: 0.9516\n",
      "Epoch 9/50\n",
      "264268/264268 [==============================] - 2s 7us/step - loss: 0.2301 - acc: 0.9369 - val_loss: 0.1572 - val_acc: 0.9550\n",
      "Epoch 10/50\n",
      "264268/264268 [==============================] - 2s 7us/step - loss: 0.2228 - acc: 0.9391 - val_loss: 0.1567 - val_acc: 0.9554\n",
      "Epoch 11/50\n",
      "264268/264268 [==============================] - 2s 7us/step - loss: 0.2148 - acc: 0.9408 - val_loss: 0.1338 - val_acc: 0.9612\n",
      "Epoch 12/50\n",
      "264268/264268 [==============================] - 2s 7us/step - loss: 0.2043 - acc: 0.9436 - val_loss: 0.1361 - val_acc: 0.9615\n",
      "Epoch 13/50\n",
      "264268/264268 [==============================] - 2s 7us/step - loss: 0.2001 - acc: 0.9452 - val_loss: 0.1625 - val_acc: 0.9601\n",
      "Epoch 14/50\n",
      "264268/264268 [==============================] - 2s 7us/step - loss: 0.1949 - acc: 0.9469 - val_loss: 0.1377 - val_acc: 0.9636\n",
      "Epoch 15/50\n",
      "264268/264268 [==============================] - 2s 7us/step - loss: 0.1896 - acc: 0.9480 - val_loss: 0.1246 - val_acc: 0.9668\n",
      "Epoch 16/50\n",
      "264268/264268 [==============================] - 2s 7us/step - loss: 0.1839 - acc: 0.9498 - val_loss: 0.1202 - val_acc: 0.9669\n",
      "Epoch 17/50\n",
      "264268/264268 [==============================] - 2s 7us/step - loss: 0.1829 - acc: 0.9502 - val_loss: 0.1230 - val_acc: 0.9672\n",
      "Epoch 18/50\n",
      "264268/264268 [==============================] - 2s 7us/step - loss: 0.1778 - acc: 0.9516 - val_loss: 0.1152 - val_acc: 0.9709\n",
      "Epoch 19/50\n",
      "264268/264268 [==============================] - 2s 7us/step - loss: 0.1728 - acc: 0.9530 - val_loss: 0.1126 - val_acc: 0.9685\n",
      "Epoch 20/50\n",
      "264268/264268 [==============================] - 2s 7us/step - loss: 0.1706 - acc: 0.9536 - val_loss: 0.1134 - val_acc: 0.9696\n",
      "Epoch 21/50\n",
      "264268/264268 [==============================] - 2s 7us/step - loss: 0.1674 - acc: 0.9545 - val_loss: 0.1193 - val_acc: 0.9703\n",
      "Epoch 22/50\n",
      "264268/264268 [==============================] - 2s 7us/step - loss: 0.1655 - acc: 0.9550 - val_loss: 0.1111 - val_acc: 0.9710\n",
      "Epoch 23/50\n",
      "264268/264268 [==============================] - 2s 7us/step - loss: 0.1625 - acc: 0.9563 - val_loss: 0.1073 - val_acc: 0.9718\n",
      "Epoch 24/50\n",
      "264268/264268 [==============================] - 2s 7us/step - loss: 0.1594 - acc: 0.9566 - val_loss: 0.1051 - val_acc: 0.9730\n",
      "Epoch 25/50\n",
      "264268/264268 [==============================] - 2s 7us/step - loss: 0.1581 - acc: 0.9574 - val_loss: 0.1169 - val_acc: 0.9709\n",
      "Epoch 26/50\n",
      "264268/264268 [==============================] - 2s 7us/step - loss: 0.1568 - acc: 0.9580 - val_loss: 0.1041 - val_acc: 0.9734\n",
      "Epoch 27/50\n",
      "264268/264268 [==============================] - 2s 7us/step - loss: 0.1547 - acc: 0.9587 - val_loss: 0.1073 - val_acc: 0.9722\n",
      "Epoch 28/50\n",
      "264268/264268 [==============================] - 2s 7us/step - loss: 0.1518 - acc: 0.9595 - val_loss: 0.1077 - val_acc: 0.9693\n",
      "Epoch 29/50\n",
      "264268/264268 [==============================] - 2s 7us/step - loss: 0.1528 - acc: 0.9596 - val_loss: 0.1055 - val_acc: 0.9725\n",
      "Epoch 30/50\n",
      "264268/264268 [==============================] - 2s 7us/step - loss: 0.1494 - acc: 0.9603 - val_loss: 0.1043 - val_acc: 0.9718\n",
      "Epoch 31/50\n",
      "264268/264268 [==============================] - 2s 7us/step - loss: 0.1469 - acc: 0.9611 - val_loss: 0.1026 - val_acc: 0.9737\n",
      "Epoch 32/50\n",
      "264268/264268 [==============================] - 2s 7us/step - loss: 0.1471 - acc: 0.9612 - val_loss: 0.1050 - val_acc: 0.9712\n",
      "Epoch 33/50\n",
      "264268/264268 [==============================] - 2s 7us/step - loss: 0.1456 - acc: 0.9618 - val_loss: 0.1009 - val_acc: 0.9718\n",
      "Epoch 34/50\n",
      "264268/264268 [==============================] - 2s 7us/step - loss: 0.1420 - acc: 0.9626 - val_loss: 0.1025 - val_acc: 0.9712\n",
      "Epoch 35/50\n",
      "264268/264268 [==============================] - 2s 7us/step - loss: 0.1437 - acc: 0.9627 - val_loss: 0.1049 - val_acc: 0.9698\n",
      "Epoch 36/50\n",
      "264268/264268 [==============================] - 2s 7us/step - loss: 0.1415 - acc: 0.9630 - val_loss: 0.1065 - val_acc: 0.9683\n",
      "Epoch 37/50\n",
      "264268/264268 [==============================] - 2s 7us/step - loss: 0.1407 - acc: 0.9633 - val_loss: 0.1119 - val_acc: 0.9671\n",
      "Epoch 38/50\n",
      "264268/264268 [==============================] - 2s 7us/step - loss: 0.1391 - acc: 0.9642 - val_loss: 0.1050 - val_acc: 0.9699\n",
      "Epoch 39/50\n",
      "264268/264268 [==============================] - 2s 7us/step - loss: 0.1388 - acc: 0.9638 - val_loss: 0.0997 - val_acc: 0.9733\n",
      "Epoch 40/50\n",
      "264268/264268 [==============================] - 2s 7us/step - loss: 0.1377 - acc: 0.9644 - val_loss: 0.1003 - val_acc: 0.9714\n",
      "Epoch 41/50\n",
      "264268/264268 [==============================] - 2s 7us/step - loss: 0.1361 - acc: 0.9645 - val_loss: 0.1061 - val_acc: 0.9685\n",
      "Epoch 42/50\n",
      "264268/264268 [==============================] - 2s 7us/step - loss: 0.1364 - acc: 0.9647 - val_loss: 0.1068 - val_acc: 0.9689\n"
     ]
    },
    {
     "name": "stdout",
     "output_type": "stream",
     "text": [
      "Epoch 43/50\n",
      "264268/264268 [==============================] - 2s 7us/step - loss: 0.1363 - acc: 0.9650 - val_loss: 0.1047 - val_acc: 0.9686\n",
      "Epoch 44/50\n",
      "264268/264268 [==============================] - 2s 7us/step - loss: 0.1343 - acc: 0.9653 - val_loss: 0.1050 - val_acc: 0.9712\n",
      "Epoch 45/50\n",
      "264268/264268 [==============================] - 2s 7us/step - loss: 0.1350 - acc: 0.9652 - val_loss: 0.1041 - val_acc: 0.9691\n",
      "Epoch 46/50\n",
      "264268/264268 [==============================] - 2s 7us/step - loss: 0.1334 - acc: 0.9658 - val_loss: 0.1074 - val_acc: 0.9701\n",
      "Epoch 47/50\n",
      "264268/264268 [==============================] - 2s 7us/step - loss: 0.1332 - acc: 0.9658 - val_loss: 0.1052 - val_acc: 0.9693\n",
      "Epoch 48/50\n",
      "264268/264268 [==============================] - 2s 7us/step - loss: 0.1340 - acc: 0.9657 - val_loss: 0.1025 - val_acc: 0.9694\n",
      "Epoch 49/50\n",
      "264268/264268 [==============================] - 2s 7us/step - loss: 0.1325 - acc: 0.9661 - val_loss: 0.1012 - val_acc: 0.9705\n",
      "Epoch 50/50\n",
      "264268/264268 [==============================] - 2s 7us/step - loss: 0.1327 - acc: 0.9662 - val_loss: 0.1007 - val_acc: 0.9697\n",
      "CPU times: user 1min 21s, sys: 15.2 s, total: 1min 36s\n",
      "Wall time: 1min 31s\n"
     ]
    }
   ],
   "source": [
    "%%time\n",
    "\n",
    "model = Sequential()\n",
    "model.add(Dense(21,input_dim = 20))\n",
    "model.add(Dropout(0.5))\n",
    "model.add(Dense(512, activation=activation))\n",
    "model.add(Dropout(0.5))\n",
    "model.add(Dense(1024, activation=activation))\n",
    "model.add(Dropout(0.5))\n",
    "model.add(Dense(1024, activation=activation))\n",
    "model.add(Dropout(0.5))\n",
    "model.add(Dense(1024, activation=activation))\n",
    "model.add(Dropout(0.5))\n",
    "model.add(Dense(756, activation=activation))\n",
    "model.add(Dropout(0.5))\n",
    "model.add(Dense(756, activation=activation))\n",
    "model.add(Dropout(0.5))\n",
    "model.add(Dense(num_classes, activation='softmax'))\n",
    "print(model.summary())\n",
    "\n",
    "model.compile(loss='categorical_crossentropy', optimizer='rmsprop', metrics=['accuracy'])\n",
    "\n",
    "result = model.fit(X_train_ann, Y_train_ann_cnn, verbose=1, epochs=50, batch_size=5000,\n",
    "                   validation_data=(X_test_ann, Y_test_ann_cnn))"
   ]
  },
  {
   "cell_type": "code",
   "execution_count": 26,
   "metadata": {},
   "outputs": [
    {
     "name": "stdout",
     "output_type": "stream",
     "text": [
      "Length of Train Data: 264268\n",
      "Length of Test Data: 113258\n"
     ]
    }
   ],
   "source": [
    "print(\"Length of Train Data:\",len(X_train_cnn))\n",
    "print(\"Length of Test Data:\",len(X_test_cnn))"
   ]
  },
  {
   "cell_type": "code",
   "execution_count": 43,
   "metadata": {
    "scrolled": true
   },
   "outputs": [
    {
     "name": "stdout",
     "output_type": "stream",
     "text": [
      "For Test Data: \n",
      "Confusion Matrix:\n",
      "341 4 4 1 0 0 0 25 6 0 0 157 \n",
      "0 718 8 0 0 0 0 7 2 2 0 57 \n",
      "0 3 870 0 0 0 0 32 2 1 1 7 \n",
      "14 0 0 1356 30 0 0 98 0 2 10 229 \n",
      "0 13 2 11 565 0 0 13 0 0 14 189 \n",
      "0 0 0 0 0 0 0 2 0 0 0 0 \n",
      "0 0 9 0 0 0 0 17 0 0 0 7 \n",
      "15 65 215 34 38 0 0 7400 16 41 8 738 \n",
      "2 0 0 0 0 0 0 7 146 2 0 16 \n",
      "2 4 8 4 0 0 0 34 73 95 0 408 \n",
      "0 0 3 0 2 0 0 9 0 3 570 43 \n",
      "2 6 69 11 132 0 0 305 79 9 47 97768 \n"
     ]
    }
   ],
   "source": [
    "from sklearn.metrics import confusion_matrix\n",
    "print(\"For Test Data: \")\n",
    "Y_pred = model.predict(X_test_ann)\n",
    "print(\"Confusion Matrix:\")\n",
    "matrix = confusion_matrix(Y_test_ann_cnn.argmax(axis=1), Y_pred.argmax(axis=1))\n",
    "for i in range(len(matrix)):\n",
    "    k = matrix[i,:]\n",
    "    for j in k:\n",
    "        print(j,end=\" \")\n",
    "    print(\"\")"
   ]
  },
  {
   "cell_type": "code",
   "execution_count": 45,
   "metadata": {},
   "outputs": [
    {
     "name": "stdout",
     "output_type": "stream",
     "text": [
      "ATTACK :  63.38289962825279 %\n",
      "DATABASE :  90.42821158690177 %\n",
      "FTP-CONTROL :  94.97816593886463 %\n",
      "FTP-DATA :  77.97584818861415 %\n",
      "FTP-PASV :  70.01239157372986 %\n",
      "GAMES :  0.0 %\n",
      "INTERACTIVE :  0.0 %\n",
      "MAIL :  86.34772462077012 %\n",
      "MULTIMEDIA :  84.39306358381504 %\n",
      "P2P :  15.127388535031846 %\n",
      "SERVICES :  90.47619047619048 %\n",
      "WWW :  99.32945909700491 %\n"
     ]
    }
   ],
   "source": [
    "for i in range(12):\n",
    "    print( LABELS[i],\": \",(matrix[i,i]/sum(matrix[i,:]))*100,\"%\")"
   ]
  },
  {
   "cell_type": "code",
   "execution_count": 28,
   "metadata": {},
   "outputs": [],
   "source": [
    "import seaborn as sn\n",
    "import matplotlib.pyplot as plt"
   ]
  },
  {
   "cell_type": "code",
   "execution_count": 46,
   "metadata": {},
   "outputs": [
    {
     "data": {
      "text/plain": [
       "<matplotlib.axes._subplots.AxesSubplot at 0x7f2cd8363438>"
      ]
     },
     "execution_count": 46,
     "metadata": {},
     "output_type": "execute_result"
    },
    {
     "data": {
      "image/png": "[encoded data removed]",
      "text/plain": [
       "<Figure size 720x504 with 2 Axes>"
      ]
     },
     "metadata": {
      "needs_background": "light"
     },
     "output_type": "display_data"
    }
   ],
   "source": [
    "matrix = pd.DataFrame(matrix, index = LABELS,columns = LABELS)\n",
    "plt.figure(figsize = (10,7))\n",
    "sn.heatmap(matrix, annot=True)"
   ]
  },
  {
   "cell_type": "code",
   "execution_count": null,
   "metadata": {},
   "outputs": [],
   "source": []
  },
  {
   "cell_type": "code",
   "execution_count": null,
   "metadata": {},
   "outputs": [],
   "source": []
  },
  {
   "cell_type": "code",
   "execution_count": 51,
   "metadata": {},
   "outputs": [
    {
     "name": "stdout",
     "output_type": "stream",
     "text": [
      "For Train Data: \n",
      "Confusion Matrix:\n",
      "787 4 6 1 1 0 0 63 12 4 2 375 \n",
      "0 1659 18 0 0 0 0 33 1 2 0 141 \n",
      "0 4 2005 1 0 0 0 89 10 3 1 25 \n",
      "45 2 0 3193 74 0 0 207 0 1 21 515 \n",
      "0 29 8 33 1334 0 0 24 0 0 38 415 \n",
      "0 1 0 0 0 0 0 0 1 0 0 4 \n",
      "0 0 37 0 0 0 0 24 0 0 0 16 \n",
      "39 144 483 74 87 0 0 17428 34 89 12 1607 \n",
      "1 0 0 0 0 0 0 13 347 5 0 37 \n",
      "6 9 7 6 0 0 0 88 172 244 0 934 \n",
      "0 1 0 0 2 0 0 17 1 5 1363 80 \n",
      "5 19 162 17 293 0 0 669 156 23 87 228233 \n"
     ]
    }
   ],
   "source": [
    "print(\"For Train Data: \")\n",
    "\n",
    "print(\"Confusion Matrix:\")\n",
    "Y_pred = model.predict(X_train_ann)\n",
    "\n",
    "matrix = confusion_matrix(Y_train_ann_cnn.argmax(axis=1), Y_pred.argmax(axis=1))\n",
    "for i in range(len(matrix)):\n",
    "    k = matrix[i,:]\n",
    "    for j in k:\n",
    "        print(j,end=\" \")\n",
    "    print(\"\")"
   ]
  },
  {
   "cell_type": "code",
   "execution_count": 52,
   "metadata": {},
   "outputs": [
    {
     "name": "stdout",
     "output_type": "stream",
     "text": [
      "ATTACK :  62.70916334661355 %\n",
      "DATABASE :  89.48220064724919 %\n",
      "FTP-CONTROL :  93.77923292797007 %\n",
      "FTP-DATA :  78.68408082799408 %\n",
      "FTP-PASV :  70.9197235513025 %\n",
      "GAMES :  0.0 %\n",
      "INTERACTIVE :  0.0 %\n",
      "MAIL :  87.15307296094414 %\n",
      "MULTIMEDIA :  86.10421836228288 %\n",
      "P2P :  16.64392905866303 %\n",
      "SERVICES :  92.78420694349899 %\n",
      "WWW :  99.37691584227393 %\n"
     ]
    }
   ],
   "source": [
    "for i in range(12):\n",
    "    print( LABELS[i],\": \",(matrix[i,i]/sum(matrix[i,:]))*100,\"%\")"
   ]
  },
  {
   "cell_type": "code",
   "execution_count": 53,
   "metadata": {},
   "outputs": [
    {
     "data": {
      "text/plain": [
       "<matplotlib.axes._subplots.AxesSubplot at 0x7f2ca8266d30>"
      ]
     },
     "execution_count": 53,
     "metadata": {},
     "output_type": "execute_result"
    },
    {
     "data": {
      "image/png": "[encoded data removed]",
      "text/plain": [
       "<Figure size 720x504 with 2 Axes>"
      ]
     },
     "metadata": {
      "needs_background": "light"
     },
     "output_type": "display_data"
    }
   ],
   "source": [
    "matrix = pd.DataFrame(matrix, index = LABELS,columns = LABELS)\n",
    "plt.figure(figsize = (10,7))\n",
    "sn.heatmap(matrix, annot=True,annot_kws={\"size\": 8})"
   ]
  },
  {
   "cell_type": "code",
   "execution_count": 54,
   "metadata": {},
   "outputs": [
    {
     "name": "stdout",
     "output_type": "stream",
     "text": [
      "For Test Data: Full Classification Report \n",
      "             precision    recall  f1-score   support\n",
      "\n",
      "          0       0.91      0.63      0.75       538\n",
      "          1       0.88      0.90      0.89       794\n",
      "          2       0.73      0.95      0.83       916\n",
      "          3       0.96      0.78      0.86      1739\n",
      "          4       0.74      0.70      0.72       807\n",
      "          5       0.00      0.00      0.00         2\n",
      "          6       0.00      0.00      0.00        33\n",
      "          7       0.93      0.86      0.90      8570\n",
      "          8       0.45      0.84      0.59       173\n",
      "          9       0.61      0.15      0.24       628\n",
      "         10       0.88      0.90      0.89       630\n",
      "         11       0.98      0.99      0.99     98428\n",
      "\n",
      "avg / total       0.97      0.97      0.97    113258\n",
      "\n"
     ]
    },
    {
     "name": "stderr",
     "output_type": "stream",
     "text": [
      "/home/user/anaconda3/lib/python3.6/site-packages/sklearn/metrics/classification.py:1135: UndefinedMetricWarning: Precision and F-score are ill-defined and being set to 0.0 in labels with no predicted samples.\n",
      "  'precision', 'predicted', average, warn_for)\n"
     ]
    }
   ],
   "source": [
    "from sklearn.metrics import classification_report\n",
    "print(\"For Test Data: Full Classification Report \")\n",
    "Y_test = np.argmax(Y_test_ann_cnn, axis=1) # Convert one-hot to index\n",
    "y_pred = model.predict_classes(X_test_ann)\n",
    "print(classification_report(Y_test, y_pred))"
   ]
  },
  {
   "cell_type": "code",
   "execution_count": 55,
   "metadata": {},
   "outputs": [
    {
     "name": "stdout",
     "output_type": "stream",
     "text": [
      "For Train Data: Full Classification Report \n",
      "             precision    recall  f1-score   support\n",
      "\n",
      "          0       0.89      0.63      0.74      1255\n",
      "          1       0.89      0.89      0.89      1854\n",
      "          2       0.74      0.94      0.82      2138\n",
      "          3       0.96      0.79      0.86      4058\n",
      "          4       0.74      0.71      0.73      1881\n",
      "          5       0.00      0.00      0.00         6\n",
      "          6       0.00      0.00      0.00        77\n",
      "          7       0.93      0.87      0.90     19997\n",
      "          8       0.47      0.86      0.61       403\n",
      "          9       0.65      0.17      0.26      1466\n",
      "         10       0.89      0.93      0.91      1469\n",
      "         11       0.98      0.99      0.99    229664\n",
      "\n",
      "avg / total       0.97      0.97      0.97    264268\n",
      "\n"
     ]
    },
    {
     "name": "stderr",
     "output_type": "stream",
     "text": [
      "/home/user/anaconda3/lib/python3.6/site-packages/sklearn/metrics/classification.py:1135: UndefinedMetricWarning: Precision and F-score are ill-defined and being set to 0.0 in labels with no predicted samples.\n",
      "  'precision', 'predicted', average, warn_for)\n"
     ]
    }
   ],
   "source": [
    "print(\"For Train Data: Full Classification Report \")\n",
    "Y_train = np.argmax(Y_train_ann_cnn, axis=1) # Convert one-hot to index\n",
    "y_pred = model.predict_classes(X_train_ann)\n",
    "print(classification_report(Y_train, y_pred))"
   ]
  },
  {
   "cell_type": "code",
   "execution_count": 56,
   "metadata": {},
   "outputs": [
    {
     "name": "stdout",
     "output_type": "stream",
     "text": [
      "CPU times: user 20.8 s, sys: 2.91 s, total: 23.7 s\n",
      "Wall time: 12.7 s\n"
     ]
    }
   ],
   "source": [
    "%%time\n",
    "y_pred = model.predict_classes(X_train_ann)"
   ]
  },
  {
   "cell_type": "code",
   "execution_count": 57,
   "metadata": {},
   "outputs": [
    {
     "name": "stdout",
     "output_type": "stream",
     "text": [
      "CPU times: user 8.3 s, sys: 1.25 s, total: 9.55 s\n",
      "Wall time: 5.02 s\n"
     ]
    }
   ],
   "source": [
    "%%time\n",
    "y_pred = model.predict_classes(X_test_ann)"
   ]
  },
  {
   "cell_type": "markdown",
   "metadata": {},
   "source": [
    "# CNN"
   ]
  },
  {
   "cell_type": "code",
   "execution_count": 58,
   "metadata": {
    "scrolled": true
   },
   "outputs": [
    {
     "name": "stdout",
     "output_type": "stream",
     "text": [
      "_________________________________________________________________\n",
      "Layer (type)                 Output Shape              Param #   \n",
      "=================================================================\n",
      "conv1d_1 (Conv1D)            (None, 10, 512)           2048      \n",
      "_________________________________________________________________\n",
      "max_pooling1d_1 (MaxPooling1 (None, 5, 512)            0         \n",
      "_________________________________________________________________\n",
      "conv1d_2 (Conv1D)            (None, 3, 256)            393472    \n",
      "_________________________________________________________________\n",
      "max_pooling1d_2 (MaxPooling1 (None, 1, 256)            0         \n",
      "_________________________________________________________________\n",
      "flatten_1 (Flatten)          (None, 256)               0         \n",
      "_________________________________________________________________\n",
      "dense_9 (Dense)              (None, 13)                3341      \n",
      "_________________________________________________________________\n",
      "dropout_8 (Dropout)          (None, 13)                0         \n",
      "_________________________________________________________________\n",
      "dense_10 (Dense)             (None, 512)               7168      \n",
      "_________________________________________________________________\n",
      "dropout_9 (Dropout)          (None, 512)               0         \n",
      "_________________________________________________________________\n",
      "dense_11 (Dense)             (None, 512)               262656    \n",
      "_________________________________________________________________\n",
      "dropout_10 (Dropout)         (None, 512)               0         \n",
      "_________________________________________________________________\n",
      "dense_12 (Dense)             (None, 12)                6156      \n",
      "=================================================================\n",
      "Total params: 674,841\n",
      "Trainable params: 674,841\n",
      "Non-trainable params: 0\n",
      "_________________________________________________________________\n",
      "None\n",
      "Train on 264268 samples, validate on 113258 samples\n",
      "Epoch 1/50\n",
      "264268/264268 [==============================] - 5s 20us/step - loss: 0.6534 - acc: 0.8658 - val_loss: 0.3182 - val_acc: 0.9223\n",
      "Epoch 2/50\n",
      "264268/264268 [==============================] - 4s 14us/step - loss: 0.2779 - acc: 0.9284 - val_loss: 0.2127 - val_acc: 0.9410\n",
      "Epoch 3/50\n",
      "264268/264268 [==============================] - 4s 14us/step - loss: 0.2223 - acc: 0.9409 - val_loss: 0.1792 - val_acc: 0.9469\n",
      "Epoch 4/50\n",
      "264268/264268 [==============================] - 4s 14us/step - loss: 0.1952 - acc: 0.9464 - val_loss: 0.1472 - val_acc: 0.9596\n",
      "Epoch 5/50\n",
      "264268/264268 [==============================] - 4s 14us/step - loss: 0.1746 - acc: 0.9530 - val_loss: 0.1271 - val_acc: 0.9684\n",
      "Epoch 6/50\n",
      "264268/264268 [==============================] - 4s 14us/step - loss: 0.1583 - acc: 0.9581 - val_loss: 0.1118 - val_acc: 0.9728\n",
      "Epoch 7/50\n",
      "264268/264268 [==============================] - 4s 14us/step - loss: 0.1478 - acc: 0.9614 - val_loss: 0.1039 - val_acc: 0.9732\n",
      "Epoch 8/50\n",
      "264268/264268 [==============================] - 4s 14us/step - loss: 0.1394 - acc: 0.9640 - val_loss: 0.0940 - val_acc: 0.9781\n",
      "Epoch 9/50\n",
      "264268/264268 [==============================] - 4s 14us/step - loss: 0.1307 - acc: 0.9672 - val_loss: 0.0939 - val_acc: 0.9773\n",
      "Epoch 10/50\n",
      "264268/264268 [==============================] - 4s 14us/step - loss: 0.1281 - acc: 0.9673 - val_loss: 0.0880 - val_acc: 0.9790\n",
      "Epoch 11/50\n",
      "264268/264268 [==============================] - 4s 14us/step - loss: 0.1227 - acc: 0.9688 - val_loss: 0.0813 - val_acc: 0.9803\n",
      "Epoch 12/50\n",
      "264268/264268 [==============================] - 4s 14us/step - loss: 0.1140 - acc: 0.9712 - val_loss: 0.0896 - val_acc: 0.9780\n",
      "Epoch 13/50\n",
      "264268/264268 [==============================] - 4s 14us/step - loss: 0.1127 - acc: 0.9714 - val_loss: 0.0756 - val_acc: 0.9813\n",
      "Epoch 14/50\n",
      "264268/264268 [==============================] - 4s 15us/step - loss: 0.1083 - acc: 0.9725 - val_loss: 0.0771 - val_acc: 0.9812\n",
      "Epoch 15/50\n",
      "264268/264268 [==============================] - 4s 14us/step - loss: 0.1043 - acc: 0.9740 - val_loss: 0.0714 - val_acc: 0.9834\n",
      "Epoch 16/50\n",
      "264268/264268 [==============================] - 4s 15us/step - loss: 0.1008 - acc: 0.9744 - val_loss: 0.0735 - val_acc: 0.9825\n",
      "Epoch 17/50\n",
      "264268/264268 [==============================] - 4s 14us/step - loss: 0.1023 - acc: 0.9745 - val_loss: 0.0753 - val_acc: 0.9817\n",
      "Epoch 18/50\n",
      "264268/264268 [==============================] - 4s 14us/step - loss: 0.1006 - acc: 0.9747 - val_loss: 0.0717 - val_acc: 0.9830\n",
      "Epoch 19/50\n",
      "264268/264268 [==============================] - 4s 14us/step - loss: 0.0961 - acc: 0.9758 - val_loss: 0.0766 - val_acc: 0.9821\n",
      "Epoch 20/50\n",
      "264268/264268 [==============================] - 4s 15us/step - loss: 0.0953 - acc: 0.9759 - val_loss: 0.0699 - val_acc: 0.9839\n",
      "Epoch 21/50\n",
      "264268/264268 [==============================] - 4s 14us/step - loss: 0.0908 - acc: 0.9774 - val_loss: 0.0694 - val_acc: 0.9829\n",
      "Epoch 22/50\n",
      "264268/264268 [==============================] - 4s 14us/step - loss: 0.0909 - acc: 0.9771 - val_loss: 0.0656 - val_acc: 0.9852\n",
      "Epoch 23/50\n",
      "264268/264268 [==============================] - 4s 14us/step - loss: 0.0904 - acc: 0.9777 - val_loss: 0.0703 - val_acc: 0.9845\n",
      "Epoch 24/50\n",
      "264268/264268 [==============================] - 4s 15us/step - loss: 0.0864 - acc: 0.9785 - val_loss: 0.0648 - val_acc: 0.9844\n",
      "Epoch 25/50\n",
      "264268/264268 [==============================] - 4s 15us/step - loss: 0.0866 - acc: 0.9786 - val_loss: 0.0641 - val_acc: 0.9855\n",
      "Epoch 26/50\n",
      "264268/264268 [==============================] - 4s 14us/step - loss: 0.0841 - acc: 0.9793 - val_loss: 0.0639 - val_acc: 0.9859\n",
      "Epoch 27/50\n",
      "264268/264268 [==============================] - 4s 15us/step - loss: 0.0832 - acc: 0.9795 - val_loss: 0.0619 - val_acc: 0.9860\n",
      "Epoch 28/50\n",
      "264268/264268 [==============================] - 4s 14us/step - loss: 0.0839 - acc: 0.9790 - val_loss: 0.0685 - val_acc: 0.9845\n",
      "Epoch 29/50\n",
      "264268/264268 [==============================] - 4s 15us/step - loss: 0.0832 - acc: 0.9793 - val_loss: 0.0727 - val_acc: 0.9826\n",
      "Epoch 30/50\n",
      "264268/264268 [==============================] - 4s 14us/step - loss: 0.0817 - acc: 0.9799 - val_loss: 0.0638 - val_acc: 0.9859\n",
      "Epoch 31/50\n",
      "264268/264268 [==============================] - 4s 15us/step - loss: 0.0815 - acc: 0.9800 - val_loss: 0.0624 - val_acc: 0.9862\n",
      "Epoch 32/50\n",
      "264268/264268 [==============================] - 4s 14us/step - loss: 0.0788 - acc: 0.9807 - val_loss: 0.0603 - val_acc: 0.9868\n",
      "Epoch 33/50\n",
      "264268/264268 [==============================] - 4s 14us/step - loss: 0.0798 - acc: 0.9801 - val_loss: 0.0641 - val_acc: 0.9851\n",
      "Epoch 34/50\n",
      "264268/264268 [==============================] - 4s 15us/step - loss: 0.0780 - acc: 0.9806 - val_loss: 0.0618 - val_acc: 0.9863\n",
      "Epoch 35/50\n",
      "264268/264268 [==============================] - 4s 14us/step - loss: 0.0769 - acc: 0.9813 - val_loss: 0.0767 - val_acc: 0.9837\n",
      "Epoch 36/50\n",
      "264268/264268 [==============================] - 4s 15us/step - loss: 0.0790 - acc: 0.9804 - val_loss: 0.0598 - val_acc: 0.9863\n",
      "Epoch 37/50\n",
      "264268/264268 [==============================] - 4s 14us/step - loss: 0.0750 - acc: 0.9818 - val_loss: 0.0597 - val_acc: 0.9868\n",
      "Epoch 38/50\n",
      "264268/264268 [==============================] - 4s 14us/step - loss: 0.0742 - acc: 0.9819 - val_loss: 0.0553 - val_acc: 0.9873\n",
      "Epoch 39/50\n",
      "264268/264268 [==============================] - 4s 14us/step - loss: 0.0755 - acc: 0.9814 - val_loss: 0.0600 - val_acc: 0.9867\n",
      "Epoch 40/50\n",
      "264268/264268 [==============================] - 4s 14us/step - loss: 0.0735 - acc: 0.9822 - val_loss: 0.0584 - val_acc: 0.9872\n",
      "Epoch 41/50\n",
      "264268/264268 [==============================] - 4s 15us/step - loss: 0.0743 - acc: 0.9818 - val_loss: 0.0577 - val_acc: 0.9875\n",
      "Epoch 42/50\n",
      "264268/264268 [==============================] - 4s 15us/step - loss: 0.0742 - acc: 0.9817 - val_loss: 0.0671 - val_acc: 0.9861\n",
      "Epoch 43/50\n",
      "264268/264268 [==============================] - 4s 14us/step - loss: 0.0747 - acc: 0.9819 - val_loss: 0.0567 - val_acc: 0.9867\n",
      "Epoch 44/50\n",
      "264268/264268 [==============================] - 4s 15us/step - loss: 0.0720 - acc: 0.9825 - val_loss: 0.0592 - val_acc: 0.9875\n",
      "Epoch 45/50\n",
      "264268/264268 [==============================] - 4s 15us/step - loss: 0.0696 - acc: 0.9831 - val_loss: 0.0601 - val_acc: 0.9873\n",
      "Epoch 46/50\n",
      "264268/264268 [==============================] - 4s 14us/step - loss: 0.0693 - acc: 0.9831 - val_loss: 0.0588 - val_acc: 0.9872\n",
      "Epoch 47/50\n",
      "264268/264268 [==============================] - 4s 15us/step - loss: 0.0683 - acc: 0.9834 - val_loss: 0.0608 - val_acc: 0.9864\n",
      "Epoch 48/50\n",
      "264268/264268 [==============================] - 4s 14us/step - loss: 0.0681 - acc: 0.9834 - val_loss: 0.0644 - val_acc: 0.9873\n",
      "Epoch 49/50\n",
      "264268/264268 [==============================] - 4s 15us/step - loss: 0.0693 - acc: 0.9834 - val_loss: 0.0581 - val_acc: 0.9877\n",
      "Epoch 50/50\n",
      "264268/264268 [==============================] - 4s 15us/step - loss: 0.0678 - acc: 0.9836 - val_loss: 0.0713 - val_acc: 0.9834\n",
      "CPU times: user 2min 36s, sys: 41.5 s, total: 3min 17s\n",
      "Wall time: 3min 11s\n"
     ]
    }
   ],
   "source": [
    "%%time\n",
    "\n",
    "model = Sequential()\n",
    "model.add(Conv1D(512, strides=2, input_shape=X_train_cnn.shape[1:], activation=activation, kernel_size=3, padding='same'))\n",
    "model.add(MaxPooling1D())\n",
    "model.add(Conv1D(256, strides=2, activation=activation, kernel_size=3, padding='same'))\n",
    "model.add(MaxPooling1D())\n",
    "model.add(Flatten())\n",
    "model.add(Dense(13,input_dim = 12))\n",
    "model.add(Dropout(0.5))\n",
    "model.add(Dense(512, activation=activation))\n",
    "model.add(Dropout(0.5))\n",
    "# model.add(Dense(1024, activation=activation))\n",
    "# model.add(Dropout(0.5))\n",
    "# model.add(Dense(1024, activation=activation))\n",
    "# model.add(Dropout(0.5))\n",
    "# model.add(Dense(1024, activation=activation))\n",
    "# model.add(Dropout(0.5))\n",
    "# model.add(Dense(756, activation=activation))\n",
    "# model.add(Dropout(0.5))\n",
    "model.add(Dense(512, activation=activation))\n",
    "model.add(Dropout(0.5))\n",
    "model.add(Dense(num_classes, activation='softmax'))\n",
    "print(model.summary())\n",
    "\n",
    "model.compile(loss='categorical_crossentropy', optimizer='adam', metrics=['accuracy'])\n",
    "\n",
    "result = model.fit(X_train_cnn, Y_train_ann_cnn, verbose=1, epochs=50, batch_size=5000,\n",
    "                   validation_data=(X_test_cnn, Y_test_ann_cnn))"
   ]
  },
  {
   "cell_type": "code",
   "execution_count": 59,
   "metadata": {},
   "outputs": [
    {
     "name": "stdout",
     "output_type": "stream",
     "text": [
      "Length of Train Data: 264268\n",
      "Length of Test Data: 113258\n"
     ]
    }
   ],
   "source": [
    "print(\"Length of Train Data:\",len(X_train_cnn))\n",
    "print(\"Length of Test Data:\",len(X_test_cnn))"
   ]
  },
  {
   "cell_type": "code",
   "execution_count": 60,
   "metadata": {
    "scrolled": true
   },
   "outputs": [
    {
     "name": "stdout",
     "output_type": "stream",
     "text": [
      "For Test Data: \n",
      "Confusion Matrix:\n",
      "349 1 1 1 2 0 0 26 5 2 0 151 \n",
      "0 761 3 0 2 0 0 8 0 0 0 20 \n",
      "0 2 894 0 2 0 0 15 0 1 0 2 \n",
      "2 0 0 1678 24 0 0 18 3 4 6 4 \n",
      "0 0 3 16 769 0 0 9 0 0 0 10 \n",
      "0 0 0 0 0 0 0 2 0 0 0 0 \n",
      "0 0 6 0 0 0 0 7 0 3 0 17 \n",
      "5 6 42 14 43 0 0 8399 5 16 2 38 \n",
      "3 0 1 2 0 0 0 1 109 55 0 2 \n",
      "1 2 4 7 1 0 0 30 5 440 2 136 \n",
      "0 4 4 0 3 0 0 10 1 2 601 5 \n",
      "3 60 7 34 165 0 0 238 10 453 81 97377 \n"
     ]
    }
   ],
   "source": [
    "from sklearn.metrics import confusion_matrix\n",
    "print(\"For Test Data: \")\n",
    "Y_pred = model.predict(X_test_cnn)\n",
    "print(\"Confusion Matrix:\")\n",
    "matrix = confusion_matrix(Y_test_ann_cnn.argmax(axis=1), Y_pred.argmax(axis=1))\n",
    "for i in range(len(matrix)):\n",
    "    k = matrix[i,:]\n",
    "    for j in k:\n",
    "        print(j,end=\" \")\n",
    "    print(\"\")"
   ]
  },
  {
   "cell_type": "code",
   "execution_count": 61,
   "metadata": {},
   "outputs": [
    {
     "name": "stdout",
     "output_type": "stream",
     "text": [
      "ATTACK :  64.86988847583643 %\n",
      "DATABASE :  95.84382871536525 %\n",
      "FTP-CONTROL :  97.59825327510917 %\n",
      "FTP-DATA :  96.49223691776884 %\n",
      "FTP-PASV :  95.2912019826518 %\n",
      "GAMES :  0.0 %\n",
      "INTERACTIVE :  0.0 %\n",
      "MAIL :  98.0046674445741 %\n",
      "MULTIMEDIA :  63.005780346820806 %\n",
      "P2P :  70.06369426751591 %\n",
      "SERVICES :  95.3968253968254 %\n",
      "WWW :  98.93221441053359 %\n"
     ]
    }
   ],
   "source": [
    "for i in range(12):\n",
    "    print( LABELS[i],\": \",(matrix[i,i]/sum(matrix[i,:]))*100,\"%\")"
   ]
  },
  {
   "cell_type": "code",
   "execution_count": 62,
   "metadata": {},
   "outputs": [
    {
     "data": {
      "text/plain": [
       "<matplotlib.axes._subplots.AxesSubplot at 0x7f2c98540080>"
      ]
     },
     "execution_count": 62,
     "metadata": {},
     "output_type": "execute_result"
    },
    {
     "data": {
      "image/png": "[encoded data removed]",
      "text/plain": [
       "<Figure size 720x504 with 2 Axes>"
      ]
     },
     "metadata": {
      "needs_background": "light"
     },
     "output_type": "display_data"
    }
   ],
   "source": [
    "matrix = pd.DataFrame(matrix, index = LABELS,columns = LABELS)\n",
    "plt.figure(figsize = (10,7))\n",
    "sn.heatmap(matrix, annot=True,annot_kws={\"size\": 8})"
   ]
  },
  {
   "cell_type": "code",
   "execution_count": 63,
   "metadata": {},
   "outputs": [
    {
     "name": "stdout",
     "output_type": "stream",
     "text": [
      "For Train Data: \n",
      "Confusion Matrix:\n",
      "827 0 10 3 4 0 0 49 7 18 4 333 \n",
      "0 1791 5 0 0 0 0 18 0 0 0 40 \n",
      "0 1 2081 0 5 0 0 30 0 9 0 12 \n",
      "1 0 1 3917 67 0 0 37 1 5 19 10 \n",
      "0 0 2 35 1815 0 0 14 0 0 4 11 \n",
      "0 1 0 0 0 0 0 0 0 1 0 4 \n",
      "0 3 17 0 4 0 0 19 0 4 0 30 \n",
      "20 18 61 24 80 0 0 19682 3 47 3 59 \n",
      "1 0 2 3 1 0 0 1 276 115 0 4 \n",
      "4 4 9 9 1 0 0 77 7 1023 2 330 \n",
      "0 2 3 5 5 0 0 10 1 5 1425 13 \n",
      "12 112 16 69 290 0 0 462 9 971 188 227535 \n"
     ]
    }
   ],
   "source": [
    "print(\"For Train Data: \")\n",
    "\n",
    "print(\"Confusion Matrix:\")\n",
    "Y_pred = model.predict(X_train_cnn)\n",
    "\n",
    "matrix = confusion_matrix(Y_train_ann_cnn.argmax(axis=1), Y_pred.argmax(axis=1))\n",
    "for i in range(len(matrix)):\n",
    "    k = matrix[i,:]\n",
    "    for j in k:\n",
    "        print(j,end=\" \")\n",
    "    print(\"\")"
   ]
  },
  {
   "cell_type": "code",
   "execution_count": 64,
   "metadata": {},
   "outputs": [
    {
     "name": "stdout",
     "output_type": "stream",
     "text": [
      "ATTACK :  65.89641434262948 %\n",
      "DATABASE :  96.60194174757282 %\n",
      "FTP-CONTROL :  97.33395696913003 %\n",
      "FTP-DATA :  96.52538196155743 %\n",
      "FTP-PASV :  96.49122807017544 %\n",
      "GAMES :  0.0 %\n",
      "INTERACTIVE :  0.0 %\n",
      "MAIL :  98.42476371455719 %\n",
      "MULTIMEDIA :  68.4863523573201 %\n",
      "P2P :  69.78171896316508 %\n",
      "SERVICES :  97.00476514635807 %\n",
      "WWW :  99.07299359063676 %\n"
     ]
    }
   ],
   "source": [
    "for i in range(12):\n",
    "    print( LABELS[i],\": \",(matrix[i,i]/sum(matrix[i,:]))*100,\"%\")"
   ]
  },
  {
   "cell_type": "code",
   "execution_count": 65,
   "metadata": {},
   "outputs": [
    {
     "data": {
      "text/plain": [
       "<matplotlib.axes._subplots.AxesSubplot at 0x7f2c51dd9c18>"
      ]
     },
     "execution_count": 65,
     "metadata": {},
     "output_type": "execute_result"
    },
    {
     "data": {
      "image/png": "[encoded data removed]",
      "text/plain": [
       "<Figure size 720x504 with 2 Axes>"
      ]
     },
     "metadata": {
      "needs_background": "light"
     },
     "output_type": "display_data"
    }
   ],
   "source": [
    "matrix = pd.DataFrame(matrix, index = LABELS,columns = LABELS)\n",
    "plt.figure(figsize = (10,7))\n",
    "sn.heatmap(matrix, annot=True,annot_kws={\"size\": 8})"
   ]
  },
  {
   "cell_type": "code",
   "execution_count": 66,
   "metadata": {},
   "outputs": [
    {
     "name": "stdout",
     "output_type": "stream",
     "text": [
      "For Test Data: Full Classification Report \n",
      "             precision    recall  f1-score   support\n",
      "\n",
      "          0       0.96      0.65      0.77       538\n",
      "          1       0.91      0.96      0.93       794\n",
      "          2       0.93      0.98      0.95       916\n",
      "          3       0.96      0.96      0.96      1739\n",
      "          4       0.76      0.95      0.85       807\n",
      "          5       0.00      0.00      0.00         2\n",
      "          6       0.00      0.00      0.00        33\n",
      "          7       0.96      0.98      0.97      8570\n",
      "          8       0.79      0.63      0.70       173\n",
      "          9       0.45      0.70      0.55       628\n",
      "         10       0.87      0.95      0.91       630\n",
      "         11       1.00      0.99      0.99     98428\n",
      "\n",
      "avg / total       0.99      0.98      0.98    113258\n",
      "\n"
     ]
    },
    {
     "name": "stderr",
     "output_type": "stream",
     "text": [
      "/home/user/anaconda3/lib/python3.6/site-packages/sklearn/metrics/classification.py:1135: UndefinedMetricWarning: Precision and F-score are ill-defined and being set to 0.0 in labels with no predicted samples.\n",
      "  'precision', 'predicted', average, warn_for)\n"
     ]
    }
   ],
   "source": [
    "from sklearn.metrics import classification_report\n",
    "print(\"For Test Data: Full Classification Report \")\n",
    "Y_test = np.argmax(Y_test_ann_cnn, axis=1) # Convert one-hot to index\n",
    "y_pred = model.predict_classes(X_test_cnn)\n",
    "print(classification_report(Y_test, y_pred))"
   ]
  },
  {
   "cell_type": "code",
   "execution_count": 67,
   "metadata": {},
   "outputs": [
    {
     "name": "stdout",
     "output_type": "stream",
     "text": [
      "For Train Data: Full Classification Report \n",
      "             precision    recall  f1-score   support\n",
      "\n",
      "          0       0.96      0.66      0.78      1255\n",
      "          1       0.93      0.97      0.95      1854\n",
      "          2       0.94      0.97      0.96      2138\n",
      "          3       0.96      0.97      0.96      4058\n",
      "          4       0.80      0.96      0.87      1881\n",
      "          5       0.00      0.00      0.00         6\n",
      "          6       0.00      0.00      0.00        77\n",
      "          7       0.96      0.98      0.97     19997\n",
      "          8       0.91      0.68      0.78       403\n",
      "          9       0.47      0.70      0.56      1466\n",
      "         10       0.87      0.97      0.92      1469\n",
      "         11       1.00      0.99      0.99    229664\n",
      "\n",
      "avg / total       0.99      0.99      0.99    264268\n",
      "\n"
     ]
    },
    {
     "name": "stderr",
     "output_type": "stream",
     "text": [
      "/home/user/anaconda3/lib/python3.6/site-packages/sklearn/metrics/classification.py:1135: UndefinedMetricWarning: Precision and F-score are ill-defined and being set to 0.0 in labels with no predicted samples.\n",
      "  'precision', 'predicted', average, warn_for)\n"
     ]
    }
   ],
   "source": [
    "print(\"For Train Data: Full Classification Report \")\n",
    "Y_train = np.argmax(Y_train_ann_cnn, axis=1) # Convert one-hot to index\n",
    "y_pred = model.predict_classes(X_train_cnn)\n",
    "print(classification_report(Y_train, y_pred))"
   ]
  },
  {
   "cell_type": "code",
   "execution_count": 68,
   "metadata": {},
   "outputs": [
    {
     "name": "stdout",
     "output_type": "stream",
     "text": [
      "For Train Data: No. of instances per class\n",
      "0 : 1255\n",
      "1 : 1854\n",
      "2 : 2138\n",
      "3 : 4058\n",
      "4 : 1881\n",
      "5 : 6\n",
      "6 : 77\n",
      "7 : 19997\n",
      "8 : 403\n",
      "9 : 1466\n",
      "10 : 1469\n",
      "11 : 229664\n"
     ]
    }
   ],
   "source": [
    "print(\"For Train Data: No. of instances per class\")\n",
    "unique, counts = np.unique(Y_train, return_counts = True)\n",
    "for u,c in zip(unique, counts):\n",
    "    print(u,\":\",c)"
   ]
  },
  {
   "cell_type": "code",
   "execution_count": 69,
   "metadata": {},
   "outputs": [
    {
     "name": "stdout",
     "output_type": "stream",
     "text": [
      "For Test Data: No. of instances per class\n",
      "0 : 538\n",
      "1 : 794\n",
      "2 : 916\n",
      "3 : 1739\n",
      "4 : 807\n",
      "5 : 2\n",
      "6 : 33\n",
      "7 : 8570\n",
      "8 : 173\n",
      "9 : 628\n",
      "10 : 630\n",
      "11 : 98428\n"
     ]
    }
   ],
   "source": [
    "print(\"For Test Data: No. of instances per class\")\n",
    "unique, counts = np.unique(Y_test, return_counts = True)\n",
    "for u,c in zip(unique, counts):\n",
    "    print(u,\":\",c)"
   ]
  },
  {
   "cell_type": "code",
   "execution_count": 70,
   "metadata": {},
   "outputs": [
    {
     "name": "stdout",
     "output_type": "stream",
     "text": [
      "CPU times: user 30.5 s, sys: 3.58 s, total: 34.1 s\n",
      "Wall time: 19 s\n"
     ]
    }
   ],
   "source": [
    "%%time\n",
    "y_pred = model.predict_classes(X_train_cnn)"
   ]
  },
  {
   "cell_type": "code",
   "execution_count": 71,
   "metadata": {},
   "outputs": [
    {
     "name": "stdout",
     "output_type": "stream",
     "text": [
      "CPU times: user 13.3 s, sys: 1.51 s, total: 14.8 s\n",
      "Wall time: 8.27 s\n"
     ]
    }
   ],
   "source": [
    "%%time\n",
    "y_pred = model.predict_classes(X_test_cnn)"
   ]
  },
  {
   "cell_type": "markdown",
   "metadata": {},
   "source": [
    "# Decision Tree"
   ]
  },
  {
   "cell_type": "code",
   "execution_count": 24,
   "metadata": {},
   "outputs": [],
   "source": [
    "from sklearn import tree\n",
    "from sklearn.model_selection import cross_val_score\n"
   ]
  },
  {
   "cell_type": "code",
   "execution_count": 25,
   "metadata": {},
   "outputs": [
    {
     "name": "stdout",
     "output_type": "stream",
     "text": [
      "CPU times: user 22.1 s, sys: 46.5 ms, total: 22.1 s\n",
      "Wall time: 22.2 s\n"
     ]
    }
   ],
   "source": [
    "%%time\n",
    "clf = tree.DecisionTreeClassifier(random_state=0)\n",
    "clf.fit(X=X_train, y=Y_train)\n"
   ]
  },
  {
   "cell_type": "code",
   "execution_count": 26,
   "metadata": {},
   "outputs": [
    {
     "name": "stdout",
     "output_type": "stream",
     "text": [
      "Accuracy:  98.18644157587102 %\n"
     ]
    },
    {
     "name": "stderr",
     "output_type": "stream",
     "text": [
      "/home/user/anaconda3/lib/python3.6/site-packages/sklearn/model_selection/_split.py:605: Warning: The least populated class in y has only 2 members, which is too few. The minimum number of members in any class cannot be less than n_splits=3.\n",
      "  % (min_groups, self.n_splits)), Warning)\n"
     ]
    },
    {
     "name": "stdout",
     "output_type": "stream",
     "text": [
      "CPU times: user 15 s, sys: 34.3 ms, total: 15 s\n",
      "Wall time: 15 s\n"
     ]
    }
   ],
   "source": [
    "%%time\n",
    "clf.feature_importances_ \n",
    "print('Accuracy: ',clf.score(X=X_test, y=Y_test)*100,'%') \n",
    "cross_val_score(clf, X_test, Y_test).mean()*100"
   ]
  },
  {
   "cell_type": "code",
   "execution_count": 29,
   "metadata": {},
   "outputs": [
    {
     "name": "stdout",
     "output_type": "stream",
     "text": [
      "CPU times: user 88.5 ms, sys: 32.3 ms, total: 121 ms\n",
      "Wall time: 119 ms\n"
     ]
    },
    {
     "data": {
      "text/plain": [
       "array([ 7,  7, 11, ..., 11, 11,  7])"
      ]
     },
     "execution_count": 29,
     "metadata": {},
     "output_type": "execute_result"
    }
   ],
   "source": [
    "%%time\n",
    "clf.predict(X_train)"
   ]
  },
  {
   "cell_type": "markdown",
   "metadata": {},
   "source": [
    "# Random Forest"
   ]
  },
  {
   "cell_type": "code",
   "execution_count": 32,
   "metadata": {},
   "outputs": [],
   "source": [
    "# Import the model we are using\n",
    "from sklearn.ensemble import RandomForestClassifier\n",
    "# Instantiate model with 1000 decision trees\n",
    "rf = RandomForestClassifier()\n",
    "# Train the model on training data\n"
   ]
  },
  {
   "cell_type": "code",
   "execution_count": 33,
   "metadata": {
    "scrolled": true
   },
   "outputs": [
    {
     "name": "stderr",
     "output_type": "stream",
     "text": [
      "/home/user/anaconda3/lib/python3.6/site-packages/ipykernel_launcher.py:1: DataConversionWarning: A column-vector y was passed when a 1d array was expected. Please change the shape of y to (n_samples,), for example using ravel().\n",
      "  \"\"\"Entry point for launching an IPython kernel.\n"
     ]
    },
    {
     "name": "stdout",
     "output_type": "stream",
     "text": [
      "CPU times: user 24.4 s, sys: 141 ms, total: 24.6 s\n",
      "Wall time: 24.6 s\n"
     ]
    },
    {
     "data": {
      "text/plain": [
       "RandomForestClassifier(bootstrap=True, class_weight=None, criterion='gini',\n",
       "            max_depth=None, max_features='auto', max_leaf_nodes=None,\n",
       "            min_impurity_decrease=0.0, min_impurity_split=None,\n",
       "            min_samples_leaf=1, min_samples_split=2,\n",
       "            min_weight_fraction_leaf=0.0, n_estimators=10, n_jobs=1,\n",
       "            oob_score=False, random_state=None, verbose=0,\n",
       "            warm_start=False)"
      ]
     },
     "execution_count": 33,
     "metadata": {},
     "output_type": "execute_result"
    }
   ],
   "source": [
    "%%time\n",
    "rf.fit(X_train, Y_train);"
   ]
  },
  {
   "cell_type": "code",
   "execution_count": 34,
   "metadata": {},
   "outputs": [
    {
     "name": "stdout",
     "output_type": "stream",
     "text": [
      "CPU times: user 278 ms, sys: 3.77 ms, total: 282 ms\n",
      "Wall time: 279 ms\n"
     ]
    },
    {
     "data": {
      "text/plain": [
       "array([11, 11, 11, ..., 11, 11, 11])"
      ]
     },
     "execution_count": 34,
     "metadata": {},
     "output_type": "execute_result"
    }
   ],
   "source": [
    "%%time\n",
    "rf.predict(X_test)"
   ]
  },
  {
   "cell_type": "code",
   "execution_count": 35,
   "metadata": {},
   "outputs": [
    {
     "name": "stdout",
     "output_type": "stream",
     "text": [
      "Accuracy:  99.01463914248883 %\n"
     ]
    },
    {
     "name": "stderr",
     "output_type": "stream",
     "text": [
      "/home/user/anaconda3/lib/python3.6/site-packages/sklearn/model_selection/_split.py:605: Warning: The least populated class in y has only 2 members, which is too few. The minimum number of members in any class cannot be less than n_splits=3.\n",
      "  % (min_groups, self.n_splits)), Warning)\n",
      "/home/user/anaconda3/lib/python3.6/site-packages/sklearn/model_selection/_validation.py:458: DataConversionWarning: A column-vector y was passed when a 1d array was expected. Please change the shape of y to (n_samples,), for example using ravel().\n",
      "  estimator.fit(X_train, y_train, **fit_params)\n",
      "/home/user/anaconda3/lib/python3.6/site-packages/sklearn/model_selection/_validation.py:458: DataConversionWarning: A column-vector y was passed when a 1d array was expected. Please change the shape of y to (n_samples,), for example using ravel().\n",
      "  estimator.fit(X_train, y_train, **fit_params)\n",
      "/home/user/anaconda3/lib/python3.6/site-packages/sklearn/model_selection/_validation.py:458: DataConversionWarning: A column-vector y was passed when a 1d array was expected. Please change the shape of y to (n_samples,), for example using ravel().\n",
      "  estimator.fit(X_train, y_train, **fit_params)\n"
     ]
    },
    {
     "data": {
      "text/plain": [
       "98.51400772737149"
      ]
     },
     "execution_count": 35,
     "metadata": {},
     "output_type": "execute_result"
    }
   ],
   "source": [
    "print('Accuracy: ',rf.score(X=X_test, y=Y_test)*100,'%') \n",
    "cross_val_score(rf, X_test, Y_test).mean()*100"
   ]
  },
  {
   "cell_type": "markdown",
   "metadata": {},
   "source": [
    "# SVM"
   ]
  },
  {
   "cell_type": "code",
   "execution_count": 29,
   "metadata": {},
   "outputs": [],
   "source": [
    "from sklearn import svm\n",
    "clf = svm.SVC(kernel='linear')"
   ]
  },
  {
   "cell_type": "code",
   "execution_count": 30,
   "metadata": {},
   "outputs": [
    {
     "name": "stderr",
     "output_type": "stream",
     "text": [
      "/home/user/anaconda3/lib/python3.6/site-packages/sklearn/utils/validation.py:578: DataConversionWarning: A column-vector y was passed when a 1d array was expected. Please change the shape of y to (n_samples, ), for example using ravel().\n",
      "  y = column_or_1d(y, warn=True)\n"
     ]
    },
    {
     "name": "stdout",
     "output_type": "stream",
     "text": [
      "CPU times: user 1h 38min 21s, sys: 16.5 s, total: 1h 38min 38s\n",
      "Wall time: 1h 38min 34s\n"
     ]
    },
    {
     "data": {
      "text/plain": [
       "SVC(C=1.0, cache_size=200, class_weight=None, coef0=0.0,\n",
       "  decision_function_shape='ovr', degree=3, gamma='auto', kernel='linear',\n",
       "  max_iter=-1, probability=False, random_state=None, shrinking=True,\n",
       "  tol=0.001, verbose=False)"
      ]
     },
     "execution_count": 30,
     "metadata": {},
     "output_type": "execute_result"
    }
   ],
   "source": [
    "%%time\n",
    "clf.fit(X_train, Y_train)"
   ]
  },
  {
   "cell_type": "code",
   "execution_count": 31,
   "metadata": {},
   "outputs": [
    {
     "name": "stdout",
     "output_type": "stream",
     "text": [
      "CPU times: user 2min 2s, sys: 84.4 ms, total: 2min 2s\n",
      "Wall time: 2min 2s\n"
     ]
    }
   ],
   "source": [
    "%%time\n",
    "y_pred = clf.predict(X_test)"
   ]
  },
  {
   "cell_type": "code",
   "execution_count": 32,
   "metadata": {},
   "outputs": [
    {
     "name": "stdout",
     "output_type": "stream",
     "text": [
      "Accuracy:  96.18658284624486 %\n"
     ]
    },
    {
     "ename": "NameError",
     "evalue": "name 'cross_val_score' is not defined",
     "output_type": "error",
     "traceback": [
      "\u001b[0;31m---------------------------------------------------------------------------\u001b[0m",
      "\u001b[0;31mNameError\u001b[0m                                 Traceback (most recent call last)",
      "\u001b[0;32m<ipython-input-32-64b59fbd6458>\u001b[0m in \u001b[0;36m<module>\u001b[0;34m\u001b[0m\n\u001b[1;32m      1\u001b[0m \u001b[0mprint\u001b[0m\u001b[0;34m(\u001b[0m\u001b[0;34m'Accuracy: '\u001b[0m\u001b[0;34m,\u001b[0m\u001b[0mclf\u001b[0m\u001b[0;34m.\u001b[0m\u001b[0mscore\u001b[0m\u001b[0;34m(\u001b[0m\u001b[0mX\u001b[0m\u001b[0;34m=\u001b[0m\u001b[0mX_test\u001b[0m\u001b[0;34m,\u001b[0m \u001b[0my\u001b[0m\u001b[0;34m=\u001b[0m\u001b[0mY_test\u001b[0m\u001b[0;34m)\u001b[0m\u001b[0;34m*\u001b[0m\u001b[0;36m100\u001b[0m\u001b[0;34m,\u001b[0m\u001b[0;34m'%'\u001b[0m\u001b[0;34m)\u001b[0m\u001b[0;34m\u001b[0m\u001b[0;34m\u001b[0m\u001b[0m\n\u001b[0;32m----> 2\u001b[0;31m \u001b[0mcross_val_score\u001b[0m\u001b[0;34m(\u001b[0m\u001b[0mclf\u001b[0m\u001b[0;34m,\u001b[0m \u001b[0mX_test\u001b[0m\u001b[0;34m,\u001b[0m \u001b[0mY_test\u001b[0m\u001b[0;34m)\u001b[0m\u001b[0;34m.\u001b[0m\u001b[0mmean\u001b[0m\u001b[0;34m(\u001b[0m\u001b[0;34m)\u001b[0m\u001b[0;34m*\u001b[0m\u001b[0;36m100\u001b[0m\u001b[0;34m\u001b[0m\u001b[0;34m\u001b[0m\u001b[0m\n\u001b[0m",
      "\u001b[0;31mNameError\u001b[0m: name 'cross_val_score' is not defined"
     ]
    }
   ],
   "source": [
    "print('Accuracy: ',clf.score(X=X_test, y=Y_test)*100,'%') \n",
    "cross_val_score(clf, X_test, Y_test).mean()*100"
   ]
  },
  {
   "cell_type": "markdown",
   "metadata": {},
   "source": [
    "# Naive bayes"
   ]
  },
  {
   "cell_type": "code",
   "execution_count": 25,
   "metadata": {},
   "outputs": [],
   "source": [
    "from sklearn.naive_bayes import GaussianNB\n",
    "\n",
    "#Create a Gaussian Classifier\n",
    "model = GaussianNB()"
   ]
  },
  {
   "cell_type": "code",
   "execution_count": 26,
   "metadata": {},
   "outputs": [
    {
     "name": "stdout",
     "output_type": "stream",
     "text": [
      "CPU times: user 121 ms, sys: 65 ms, total: 186 ms\n",
      "Wall time: 184 ms\n"
     ]
    },
    {
     "name": "stderr",
     "output_type": "stream",
     "text": [
      "/home/user/anaconda3/lib/python3.6/site-packages/sklearn/utils/validation.py:578: DataConversionWarning: A column-vector y was passed when a 1d array was expected. Please change the shape of y to (n_samples, ), for example using ravel().\n",
      "  y = column_or_1d(y, warn=True)\n"
     ]
    },
    {
     "data": {
      "text/plain": [
       "GaussianNB(priors=None)"
      ]
     },
     "execution_count": 26,
     "metadata": {},
     "output_type": "execute_result"
    }
   ],
   "source": [
    "%%time\n",
    "model.fit(X_train, Y_train)"
   ]
  },
  {
   "cell_type": "code",
   "execution_count": 27,
   "metadata": {},
   "outputs": [
    {
     "name": "stdout",
     "output_type": "stream",
     "text": [
      "CPU times: user 148 ms, sys: 220 ms, total: 368 ms\n",
      "Wall time: 366 ms\n"
     ]
    }
   ],
   "source": [
    "%%time\n",
    "y_pred = model.predict(X_test)"
   ]
  },
  {
   "cell_type": "code",
   "execution_count": 28,
   "metadata": {},
   "outputs": [
    {
     "name": "stdout",
     "output_type": "stream",
     "text": [
      "Accuracy:  77.77993607515585 %\n"
     ]
    },
    {
     "ename": "NameError",
     "evalue": "name 'cross_val_score' is not defined",
     "output_type": "error",
     "traceback": [
      "\u001b[0;31m---------------------------------------------------------------------------\u001b[0m",
      "\u001b[0;31mNameError\u001b[0m                                 Traceback (most recent call last)",
      "\u001b[0;32m<ipython-input-28-02e9adba75f8>\u001b[0m in \u001b[0;36m<module>\u001b[0;34m\u001b[0m\n\u001b[1;32m      1\u001b[0m \u001b[0mprint\u001b[0m\u001b[0;34m(\u001b[0m\u001b[0;34m'Accuracy: '\u001b[0m\u001b[0;34m,\u001b[0m\u001b[0mmodel\u001b[0m\u001b[0;34m.\u001b[0m\u001b[0mscore\u001b[0m\u001b[0;34m(\u001b[0m\u001b[0mX\u001b[0m\u001b[0;34m=\u001b[0m\u001b[0mX_test\u001b[0m\u001b[0;34m,\u001b[0m \u001b[0my\u001b[0m\u001b[0;34m=\u001b[0m\u001b[0mY_test\u001b[0m\u001b[0;34m)\u001b[0m\u001b[0;34m*\u001b[0m\u001b[0;36m100\u001b[0m\u001b[0;34m,\u001b[0m\u001b[0;34m'%'\u001b[0m\u001b[0;34m)\u001b[0m\u001b[0;34m\u001b[0m\u001b[0;34m\u001b[0m\u001b[0m\n\u001b[0;32m----> 2\u001b[0;31m \u001b[0mcross_val_score\u001b[0m\u001b[0;34m(\u001b[0m\u001b[0mmodel\u001b[0m\u001b[0;34m,\u001b[0m \u001b[0mX_test\u001b[0m\u001b[0;34m,\u001b[0m \u001b[0mY_test\u001b[0m\u001b[0;34m)\u001b[0m\u001b[0;34m.\u001b[0m\u001b[0mmean\u001b[0m\u001b[0;34m(\u001b[0m\u001b[0;34m)\u001b[0m\u001b[0;34m*\u001b[0m\u001b[0;36m100\u001b[0m\u001b[0;34m\u001b[0m\u001b[0;34m\u001b[0m\u001b[0m\n\u001b[0m",
      "\u001b[0;31mNameError\u001b[0m: name 'cross_val_score' is not defined"
     ]
    }
   ],
   "source": [
    "print('Accuracy: ',model.score(X=X_test, y=Y_test)*100,'%') \n",
    "cross_val_score(model, X_test, Y_test).mean()*100"
   ]
  }
 ],
 "metadata": {
  "kernelspec": {
   "display_name": "Python 3",
   "language": "python",
   "name": "python3"
  },
  "language_info": {
   "codemirror_mode": {
    "name": "ipython",
    "version": 3
   },
   "file_extension": ".py",
   "mimetype": "text/x-python",
   "name": "python",
   "nbconvert_exporter": "python",
   "pygments_lexer": "ipython3",
   "version": "3.6.8"
  }
 },
 "nbformat": 4,
 "nbformat_minor": 2
}
