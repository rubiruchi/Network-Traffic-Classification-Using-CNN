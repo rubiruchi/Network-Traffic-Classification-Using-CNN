{
 "cells": [
  {
   "cell_type": "code",
   "execution_count": 1,
   "metadata": {},
   "outputs": [],
   "source": [
    "import numpy as np\n",
    "import pandas as pd"
   ]
  },
  {
   "cell_type": "code",
   "execution_count": 9,
   "metadata": {},
   "outputs": [],
   "source": [
    "data=pd.read_csv('data_merged.csv')"
   ]
  },
  {
   "cell_type": "code",
   "execution_count": 8,
   "metadata": {},
   "outputs": [
    {
     "data": {
      "text/html": [
       "<div>\n",
       "<style scoped>\n",
       "    .dataframe tbody tr th:only-of-type {\n",
       "        vertical-align: middle;\n",
       "    }\n",
       "\n",
       "    .dataframe tbody tr th {\n",
       "        vertical-align: top;\n",
       "    }\n",
       "\n",
       "    .dataframe thead th {\n",
       "        text-align: right;\n",
       "    }\n",
       "</style>\n",
       "<table border=\"1\" class=\"dataframe\">\n",
       "  <thead>\n",
       "    <tr style=\"text-align: right;\">\n",
       "      <th></th>\n",
       "      <th>Unnamed: 0</th>\n",
       "      <th>4</th>\n",
       "      <th>8</th>\n",
       "      <th>13</th>\n",
       "      <th>14</th>\n",
       "      <th>15</th>\n",
       "      <th>16</th>\n",
       "      <th>17</th>\n",
       "      <th>18</th>\n",
       "      <th>19</th>\n",
       "      <th>...</th>\n",
       "      <th>257</th>\n",
       "      <th>258</th>\n",
       "      <th>259</th>\n",
       "      <th>260</th>\n",
       "      <th>261</th>\n",
       "      <th>262</th>\n",
       "      <th>263</th>\n",
       "      <th>264</th>\n",
       "      <th>265</th>\n",
       "      <th>266</th>\n",
       "    </tr>\n",
       "  </thead>\n",
       "  <tbody>\n",
       "    <tr>\n",
       "      <th>0</th>\n",
       "      <td>0</td>\n",
       "      <td>80.0</td>\n",
       "      <td>51063.0</td>\n",
       "      <td>0.000134</td>\n",
       "      <td>0.000262</td>\n",
       "      <td>0.000439</td>\n",
       "      <td>0.046510</td>\n",
       "      <td>0.114171</td>\n",
       "      <td>0.153290</td>\n",
       "      <td>0.005142</td>\n",
       "      <td>...</td>\n",
       "      <td>0.005</td>\n",
       "      <td>1.487655</td>\n",
       "      <td>1.570576</td>\n",
       "      <td>0.773541</td>\n",
       "      <td>0.004160</td>\n",
       "      <td>0.971797</td>\n",
       "      <td>0.003283</td>\n",
       "      <td>1.097594</td>\n",
       "      <td>0.002344</td>\n",
       "      <td>b'WWW'</td>\n",
       "    </tr>\n",
       "    <tr>\n",
       "      <th>1</th>\n",
       "      <td>1</td>\n",
       "      <td>80.0</td>\n",
       "      <td>51094.0</td>\n",
       "      <td>0.000001</td>\n",
       "      <td>0.000173</td>\n",
       "      <td>0.000259</td>\n",
       "      <td>0.042580</td>\n",
       "      <td>0.082782</td>\n",
       "      <td>0.151153</td>\n",
       "      <td>0.004833</td>\n",
       "      <td>...</td>\n",
       "      <td>0.006</td>\n",
       "      <td>1.487655</td>\n",
       "      <td>1.570649</td>\n",
       "      <td>0.773541</td>\n",
       "      <td>0.005127</td>\n",
       "      <td>0.971797</td>\n",
       "      <td>0.004223</td>\n",
       "      <td>1.097594</td>\n",
       "      <td>0.003263</td>\n",
       "      <td>b'WWW'</td>\n",
       "    </tr>\n",
       "    <tr>\n",
       "      <th>2</th>\n",
       "      <td>2</td>\n",
       "      <td>80.0</td>\n",
       "      <td>51062.0</td>\n",
       "      <td>0.000001</td>\n",
       "      <td>0.000293</td>\n",
       "      <td>0.000517</td>\n",
       "      <td>0.046451</td>\n",
       "      <td>0.114882</td>\n",
       "      <td>0.149624</td>\n",
       "      <td>0.005026</td>\n",
       "      <td>...</td>\n",
       "      <td>0.005</td>\n",
       "      <td>1.487655</td>\n",
       "      <td>1.570568</td>\n",
       "      <td>0.773541</td>\n",
       "      <td>0.004144</td>\n",
       "      <td>0.971797</td>\n",
       "      <td>0.003254</td>\n",
       "      <td>1.097594</td>\n",
       "      <td>0.002305</td>\n",
       "      <td>b'WWW'</td>\n",
       "    </tr>\n",
       "    <tr>\n",
       "      <th>3</th>\n",
       "      <td>3</td>\n",
       "      <td>80.0</td>\n",
       "      <td>51089.0</td>\n",
       "      <td>0.000015</td>\n",
       "      <td>0.000326</td>\n",
       "      <td>0.000524</td>\n",
       "      <td>0.046915</td>\n",
       "      <td>0.116692</td>\n",
       "      <td>0.148243</td>\n",
       "      <td>0.004917</td>\n",
       "      <td>...</td>\n",
       "      <td>0.005</td>\n",
       "      <td>1.487655</td>\n",
       "      <td>1.570552</td>\n",
       "      <td>0.773541</td>\n",
       "      <td>0.004109</td>\n",
       "      <td>0.971797</td>\n",
       "      <td>0.003189</td>\n",
       "      <td>1.097594</td>\n",
       "      <td>0.002220</td>\n",
       "      <td>b'WWW'</td>\n",
       "    </tr>\n",
       "    <tr>\n",
       "      <th>4</th>\n",
       "      <td>4</td>\n",
       "      <td>80.0</td>\n",
       "      <td>51057.0</td>\n",
       "      <td>0.000077</td>\n",
       "      <td>0.000175</td>\n",
       "      <td>0.000349</td>\n",
       "      <td>0.042728</td>\n",
       "      <td>0.085012</td>\n",
       "      <td>0.149947</td>\n",
       "      <td>0.004664</td>\n",
       "      <td>...</td>\n",
       "      <td>0.005</td>\n",
       "      <td>1.487655</td>\n",
       "      <td>1.570552</td>\n",
       "      <td>0.773541</td>\n",
       "      <td>0.004110</td>\n",
       "      <td>0.971797</td>\n",
       "      <td>0.003191</td>\n",
       "      <td>1.097594</td>\n",
       "      <td>0.002222</td>\n",
       "      <td>b'WWW'</td>\n",
       "    </tr>\n",
       "  </tbody>\n",
       "</table>\n",
       "<p>5 rows × 250 columns</p>\n",
       "</div>"
      ],
      "text/plain": [
       "   Unnamed: 0     4        8        13        14        15        16  \\\n",
       "0           0  80.0  51063.0  0.000134  0.000262  0.000439  0.046510   \n",
       "1           1  80.0  51094.0  0.000001  0.000173  0.000259  0.042580   \n",
       "2           2  80.0  51062.0  0.000001  0.000293  0.000517  0.046451   \n",
       "3           3  80.0  51089.0  0.000015  0.000326  0.000524  0.046915   \n",
       "4           4  80.0  51057.0  0.000077  0.000175  0.000349  0.042728   \n",
       "\n",
       "         17        18        19   ...      257       258       259       260  \\\n",
       "0  0.114171  0.153290  0.005142   ...    0.005  1.487655  1.570576  0.773541   \n",
       "1  0.082782  0.151153  0.004833   ...    0.006  1.487655  1.570649  0.773541   \n",
       "2  0.114882  0.149624  0.005026   ...    0.005  1.487655  1.570568  0.773541   \n",
       "3  0.116692  0.148243  0.004917   ...    0.005  1.487655  1.570552  0.773541   \n",
       "4  0.085012  0.149947  0.004664   ...    0.005  1.487655  1.570552  0.773541   \n",
       "\n",
       "        261       262       263       264       265     266  \n",
       "0  0.004160  0.971797  0.003283  1.097594  0.002344  b'WWW'  \n",
       "1  0.005127  0.971797  0.004223  1.097594  0.003263  b'WWW'  \n",
       "2  0.004144  0.971797  0.003254  1.097594  0.002305  b'WWW'  \n",
       "3  0.004109  0.971797  0.003189  1.097594  0.002220  b'WWW'  \n",
       "4  0.004110  0.971797  0.003191  1.097594  0.002222  b'WWW'  \n",
       "\n",
       "[5 rows x 250 columns]"
      ]
     },
     "execution_count": 8,
     "metadata": {},
     "output_type": "execute_result"
    }
   ],
   "source": [
    "data.head()"
   ]
  },
  {
   "cell_type": "code",
   "execution_count": 10,
   "metadata": {},
   "outputs": [
    {
     "data": {
      "text/plain": [
       "(377526, 243)"
      ]
     },
     "execution_count": 10,
     "metadata": {},
     "output_type": "execute_result"
    }
   ],
   "source": [
    "drops=['77','78','79','80','83','84']\n",
    "data.drop(drops,axis=1,inplace=True)\n",
    "\n",
    "data.shape"
   ]
  },
  {
   "cell_type": "code",
   "execution_count": 11,
   "metadata": {},
   "outputs": [
    {
     "data": {
      "text/html": [
       "<div>\n",
       "<style scoped>\n",
       "    .dataframe tbody tr th:only-of-type {\n",
       "        vertical-align: middle;\n",
       "    }\n",
       "\n",
       "    .dataframe tbody tr th {\n",
       "        vertical-align: top;\n",
       "    }\n",
       "\n",
       "    .dataframe thead th {\n",
       "        text-align: right;\n",
       "    }\n",
       "</style>\n",
       "<table border=\"1\" class=\"dataframe\">\n",
       "  <thead>\n",
       "    <tr style=\"text-align: right;\">\n",
       "      <th></th>\n",
       "      <th>4</th>\n",
       "      <th>8</th>\n",
       "      <th>13</th>\n",
       "      <th>14</th>\n",
       "      <th>15</th>\n",
       "      <th>16</th>\n",
       "      <th>17</th>\n",
       "      <th>18</th>\n",
       "      <th>19</th>\n",
       "      <th>21</th>\n",
       "      <th>...</th>\n",
       "      <th>257</th>\n",
       "      <th>258</th>\n",
       "      <th>259</th>\n",
       "      <th>260</th>\n",
       "      <th>261</th>\n",
       "      <th>262</th>\n",
       "      <th>263</th>\n",
       "      <th>264</th>\n",
       "      <th>265</th>\n",
       "      <th>266</th>\n",
       "    </tr>\n",
       "  </thead>\n",
       "  <tbody>\n",
       "    <tr>\n",
       "      <th>0</th>\n",
       "      <td>80.0</td>\n",
       "      <td>51063.0</td>\n",
       "      <td>0.000134</td>\n",
       "      <td>0.000262</td>\n",
       "      <td>0.000439</td>\n",
       "      <td>0.046510</td>\n",
       "      <td>0.114171</td>\n",
       "      <td>0.153290</td>\n",
       "      <td>0.005142</td>\n",
       "      <td>66.0</td>\n",
       "      <td>...</td>\n",
       "      <td>0.005</td>\n",
       "      <td>1.487655</td>\n",
       "      <td>1.570576</td>\n",
       "      <td>0.773541</td>\n",
       "      <td>0.004160</td>\n",
       "      <td>0.971797</td>\n",
       "      <td>0.003283</td>\n",
       "      <td>1.097594</td>\n",
       "      <td>0.002344</td>\n",
       "      <td>b'WWW'</td>\n",
       "    </tr>\n",
       "    <tr>\n",
       "      <th>1</th>\n",
       "      <td>80.0</td>\n",
       "      <td>51094.0</td>\n",
       "      <td>0.000001</td>\n",
       "      <td>0.000173</td>\n",
       "      <td>0.000259</td>\n",
       "      <td>0.042580</td>\n",
       "      <td>0.082782</td>\n",
       "      <td>0.151153</td>\n",
       "      <td>0.004833</td>\n",
       "      <td>66.0</td>\n",
       "      <td>...</td>\n",
       "      <td>0.006</td>\n",
       "      <td>1.487655</td>\n",
       "      <td>1.570649</td>\n",
       "      <td>0.773541</td>\n",
       "      <td>0.005127</td>\n",
       "      <td>0.971797</td>\n",
       "      <td>0.004223</td>\n",
       "      <td>1.097594</td>\n",
       "      <td>0.003263</td>\n",
       "      <td>b'WWW'</td>\n",
       "    </tr>\n",
       "    <tr>\n",
       "      <th>2</th>\n",
       "      <td>80.0</td>\n",
       "      <td>51062.0</td>\n",
       "      <td>0.000001</td>\n",
       "      <td>0.000293</td>\n",
       "      <td>0.000517</td>\n",
       "      <td>0.046451</td>\n",
       "      <td>0.114882</td>\n",
       "      <td>0.149624</td>\n",
       "      <td>0.005026</td>\n",
       "      <td>66.0</td>\n",
       "      <td>...</td>\n",
       "      <td>0.005</td>\n",
       "      <td>1.487655</td>\n",
       "      <td>1.570568</td>\n",
       "      <td>0.773541</td>\n",
       "      <td>0.004144</td>\n",
       "      <td>0.971797</td>\n",
       "      <td>0.003254</td>\n",
       "      <td>1.097594</td>\n",
       "      <td>0.002305</td>\n",
       "      <td>b'WWW'</td>\n",
       "    </tr>\n",
       "    <tr>\n",
       "      <th>3</th>\n",
       "      <td>80.0</td>\n",
       "      <td>51089.0</td>\n",
       "      <td>0.000015</td>\n",
       "      <td>0.000326</td>\n",
       "      <td>0.000524</td>\n",
       "      <td>0.046915</td>\n",
       "      <td>0.116692</td>\n",
       "      <td>0.148243</td>\n",
       "      <td>0.004917</td>\n",
       "      <td>66.0</td>\n",
       "      <td>...</td>\n",
       "      <td>0.005</td>\n",
       "      <td>1.487655</td>\n",
       "      <td>1.570552</td>\n",
       "      <td>0.773541</td>\n",
       "      <td>0.004109</td>\n",
       "      <td>0.971797</td>\n",
       "      <td>0.003189</td>\n",
       "      <td>1.097594</td>\n",
       "      <td>0.002220</td>\n",
       "      <td>b'WWW'</td>\n",
       "    </tr>\n",
       "    <tr>\n",
       "      <th>4</th>\n",
       "      <td>80.0</td>\n",
       "      <td>51057.0</td>\n",
       "      <td>0.000077</td>\n",
       "      <td>0.000175</td>\n",
       "      <td>0.000349</td>\n",
       "      <td>0.042728</td>\n",
       "      <td>0.085012</td>\n",
       "      <td>0.149947</td>\n",
       "      <td>0.004664</td>\n",
       "      <td>66.0</td>\n",
       "      <td>...</td>\n",
       "      <td>0.005</td>\n",
       "      <td>1.487655</td>\n",
       "      <td>1.570552</td>\n",
       "      <td>0.773541</td>\n",
       "      <td>0.004110</td>\n",
       "      <td>0.971797</td>\n",
       "      <td>0.003191</td>\n",
       "      <td>1.097594</td>\n",
       "      <td>0.002222</td>\n",
       "      <td>b'WWW'</td>\n",
       "    </tr>\n",
       "  </tbody>\n",
       "</table>\n",
       "<p>5 rows × 243 columns</p>\n",
       "</div>"
      ],
      "text/plain": [
       "      4        8        13        14        15        16        17        18  \\\n",
       "0  80.0  51063.0  0.000134  0.000262  0.000439  0.046510  0.114171  0.153290   \n",
       "1  80.0  51094.0  0.000001  0.000173  0.000259  0.042580  0.082782  0.151153   \n",
       "2  80.0  51062.0  0.000001  0.000293  0.000517  0.046451  0.114882  0.149624   \n",
       "3  80.0  51089.0  0.000015  0.000326  0.000524  0.046915  0.116692  0.148243   \n",
       "4  80.0  51057.0  0.000077  0.000175  0.000349  0.042728  0.085012  0.149947   \n",
       "\n",
       "         19    21   ...      257       258       259       260       261  \\\n",
       "0  0.005142  66.0   ...    0.005  1.487655  1.570576  0.773541  0.004160   \n",
       "1  0.004833  66.0   ...    0.006  1.487655  1.570649  0.773541  0.005127   \n",
       "2  0.005026  66.0   ...    0.005  1.487655  1.570568  0.773541  0.004144   \n",
       "3  0.004917  66.0   ...    0.005  1.487655  1.570552  0.773541  0.004109   \n",
       "4  0.004664  66.0   ...    0.005  1.487655  1.570552  0.773541  0.004110   \n",
       "\n",
       "        262       263       264       265     266  \n",
       "0  0.971797  0.003283  1.097594  0.002344  b'WWW'  \n",
       "1  0.971797  0.004223  1.097594  0.003263  b'WWW'  \n",
       "2  0.971797  0.003254  1.097594  0.002305  b'WWW'  \n",
       "3  0.971797  0.003189  1.097594  0.002220  b'WWW'  \n",
       "4  0.971797  0.003191  1.097594  0.002222  b'WWW'  \n",
       "\n",
       "[5 rows x 243 columns]"
      ]
     },
     "execution_count": 11,
     "metadata": {},
     "output_type": "execute_result"
    }
   ],
   "source": [
    "data.head()"
   ]
  },
  {
   "cell_type": "code",
   "execution_count": 12,
   "metadata": {},
   "outputs": [
    {
     "data": {
      "text/plain": [
       "Index(['4', '8', '13', '14', '15', '16', '17', '18', '19', '21',\n",
       "       ...\n",
       "       '257', '258', '259', '260', '261', '262', '263', '264', '265', '266'],\n",
       "      dtype='object', length=243)"
      ]
     },
     "execution_count": 12,
     "metadata": {},
     "output_type": "execute_result"
    }
   ],
   "source": [
    "data.columns"
   ]
  },
  {
   "cell_type": "code",
   "execution_count": 15,
   "metadata": {},
   "outputs": [],
   "source": [
    "null_col=data.columns[data.isna().any()].tolist()"
   ]
  },
  {
   "cell_type": "code",
   "execution_count": 22,
   "metadata": {},
   "outputs": [
    {
     "name": "stdout",
     "output_type": "stream",
     "text": [
      "['81', '82', '85', '86', '111', '112', '113', '114', '122', '123', '124', '225', '242', '243', '244', '245', '252', '253', '254', '255', '260', '261', '262', '263', '264', '265']\n"
     ]
    }
   ],
   "source": [
    "print(null_col)"
   ]
  },
  {
   "cell_type": "code",
   "execution_count": 21,
   "metadata": {},
   "outputs": [
    {
     "data": {
      "text/plain": [
       "81     137413\n",
       "82     137413\n",
       "85      57608\n",
       "86      57608\n",
       "111      1529\n",
       "112      1632\n",
       "113      1529\n",
       "114      1632\n",
       "122       107\n",
       "123       101\n",
       "124       101\n",
       "225     41808\n",
       "242       155\n",
       "243       155\n",
       "244       155\n",
       "245       155\n",
       "252       436\n",
       "253       436\n",
       "254       436\n",
       "255       436\n",
       "260        71\n",
       "261        71\n",
       "262       538\n",
       "263       538\n",
       "264       538\n",
       "265       538\n",
       "dtype: int64"
      ]
     },
     "execution_count": 21,
     "metadata": {},
     "output_type": "execute_result"
    }
   ],
   "source": [
    "data[null_col].isna().sum()"
   ]
  },
  {
   "cell_type": "code",
   "execution_count": 31,
   "metadata": {},
   "outputs": [],
   "source": [
    "drop_col=['81','82','85','86','225']\n",
    "data.drop(drop_col,axis=1,inplace=True)"
   ]
  },
  {
   "cell_type": "code",
   "execution_count": 33,
   "metadata": {},
   "outputs": [
    {
     "data": {
      "text/plain": [
       "(377526, 238)"
      ]
     },
     "execution_count": 33,
     "metadata": {},
     "output_type": "execute_result"
    }
   ],
   "source": [
    "data.shape"
   ]
  },
  {
   "cell_type": "code",
   "execution_count": 35,
   "metadata": {},
   "outputs": [
    {
     "data": {
      "text/plain": [
       "111    1529\n",
       "112    1632\n",
       "113    1529\n",
       "114    1632\n",
       "122     107\n",
       "123     101\n",
       "124     101\n",
       "242     155\n",
       "243     155\n",
       "244     155\n",
       "245     155\n",
       "252     436\n",
       "253     436\n",
       "254     436\n",
       "255     436\n",
       "260      71\n",
       "261      71\n",
       "262     538\n",
       "263     538\n",
       "264     538\n",
       "265     538\n",
       "dtype: int64"
      ]
     },
     "execution_count": 35,
     "metadata": {},
     "output_type": "execute_result"
    }
   ],
   "source": [
    "null_col=data.columns[data.isna().any()].tolist()\n",
    "data[null_col].isna().sum()"
   ]
  },
  {
   "cell_type": "code",
   "execution_count": 36,
   "metadata": {},
   "outputs": [],
   "source": [
    "data[null_col]=data[null_col].fillna(data[null_col].mean())"
   ]
  },
  {
   "cell_type": "code",
   "execution_count": 43,
   "metadata": {},
   "outputs": [
    {
     "data": {
      "text/plain": [
       "Series([], dtype: float64)"
      ]
     },
     "execution_count": 43,
     "metadata": {},
     "output_type": "execute_result"
    }
   ],
   "source": [
    "null_col=data.columns[data.isna().any()].tolist()\n",
    "data[null_col].isna().sum()"
   ]
  },
  {
   "cell_type": "code",
   "execution_count": 44,
   "metadata": {},
   "outputs": [
    {
     "data": {
      "text/plain": [
       "Index([], dtype='object')"
      ]
     },
     "execution_count": 44,
     "metadata": {},
     "output_type": "execute_result"
    }
   ],
   "source": [
    "data.columns[data.isna().any()]"
   ]
  },
  {
   "cell_type": "code",
   "execution_count": 45,
   "metadata": {},
   "outputs": [],
   "source": [
    "data.to_csv('data_cleaned.csv',index=False)"
   ]
  },
  {
   "cell_type": "code",
   "execution_count": null,
   "metadata": {},
   "outputs": [],
   "source": []
  }
 ],
 "metadata": {
  "kernelspec": {
   "display_name": "Python 3",
   "language": "python",
   "name": "python3"
  },
  "language_info": {
   "codemirror_mode": {
    "name": "ipython",
    "version": 3
   },
   "file_extension": ".py",
   "mimetype": "text/x-python",
   "name": "python",
   "nbconvert_exporter": "python",
   "pygments_lexer": "ipython3",
   "version": "3.6.8"
  }
 },
 "nbformat": 4,
 "nbformat_minor": 2
}
